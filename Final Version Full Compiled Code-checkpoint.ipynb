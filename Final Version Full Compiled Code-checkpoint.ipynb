{
 "cells": [
  {
   "cell_type": "markdown",
   "metadata": {
    "id": "JWt--8Q4Rmgc",
    "papermill": {
     "duration": 0.065466,
     "end_time": "2020-11-30T07:38:51.578836",
     "exception": false,
     "start_time": "2020-11-30T07:38:51.513370",
     "status": "completed"
    },
    "tags": []
   },
   "source": [
    "<div class=\"info\">  \n",
    "<h2><center><strong>Importing Python Libraries 📕 📗 📘 📙</strong></center></h2>\n",
    "        \n",
    "</div>"
   ]
  },
  {
   "cell_type": "code",
   "execution_count": 1,
   "metadata": {
    "id": "QjMxOKsURmge"
   },
   "outputs": [],
   "source": [
    "import numpy as np \n",
    "import pandas as pd \n",
    "import seaborn as sns \n",
    "import matplotlib.pyplot as plt\n",
    "from sklearn.metrics import mean_squared_error\n",
    "from sklearn.metrics import mean_absolute_error\n",
    "from sklearn.preprocessing import MinMaxScaler   \n",
    "from sklearn.ensemble import GradientBoostingRegressor\n",
    "from sklearn.multioutput import MultiOutputRegressor\n",
    "from sklearn.ensemble import RandomForestRegressor\n",
    "from prettytable import PrettyTable\n",
    "from sklearn.model_selection import train_test_split\n",
    "from sklearn.multioutput import RegressorChain\n",
    "from sklearn.svm import LinearSVR\n",
    "import plotly.graph_objects as go\n",
    "\n",
    "import warnings\n",
    "warnings.filterwarnings(\"ignore\")"
   ]
  },
  {
   "cell_type": "markdown",
   "metadata": {
    "id": "S88cXHmHRmgf",
    "papermill": {
     "duration": 0.065466,
     "end_time": "2020-11-30T07:38:51.578836",
     "exception": false,
     "start_time": "2020-11-30T07:38:51.513370",
     "status": "completed"
    },
    "tags": []
   },
   "source": [
    "<div class=\"info\">  \n",
    "<h2><center><strong>Loading the data 📁 📂</strong></center></h2>\n",
    "        \n",
    "</div>"
   ]
  },
  {
   "cell_type": "code",
   "execution_count": 2,
   "metadata": {
    "id": "Q17OEIgdRmgg",
    "scrolled": false
   },
   "outputs": [],
   "source": [
    "data = pd.read_excel(\"maindataset.xlsx\") "
   ]
  },
  {
   "cell_type": "markdown",
   "metadata": {
    "id": "b8irfqVoRmgg",
    "papermill": {
     "duration": 0.065466,
     "end_time": "2020-11-30T07:38:51.578836",
     "exception": false,
     "start_time": "2020-11-30T07:38:51.513370",
     "status": "completed"
    },
    "tags": []
   },
   "source": [
    "<div class=\"info\">  \n",
    "<h2><center><strong>Data Analysis, Visualization and Preparation 📂</strong></center></h2>\n",
    "        \n",
    "</div>"
   ]
  },
  {
   "cell_type": "markdown",
   "metadata": {
    "id": "npA0fsgjRmgg"
   },
   "source": [
    "### 5 top records of data"
   ]
  },
  {
   "cell_type": "code",
   "execution_count": 3,
   "metadata": {
    "colab": {
     "base_uri": "https://localhost:8080/",
     "height": 204
    },
    "id": "8cQ1zbs7Rmgh",
    "outputId": "9e4f8e3f-0e6f-489c-9e8b-104a75491102"
   },
   "outputs": [
    {
     "data": {
      "text/html": [
       "<div>\n",
       "<style scoped>\n",
       "    .dataframe tbody tr th:only-of-type {\n",
       "        vertical-align: middle;\n",
       "    }\n",
       "\n",
       "    .dataframe tbody tr th {\n",
       "        vertical-align: top;\n",
       "    }\n",
       "\n",
       "    .dataframe thead th {\n",
       "        text-align: right;\n",
       "    }\n",
       "</style>\n",
       "<table border=\"1\" class=\"dataframe\">\n",
       "  <thead>\n",
       "    <tr style=\"text-align: right;\">\n",
       "      <th></th>\n",
       "      <th>Experiment #</th>\n",
       "      <th>Laser power (W)</th>\n",
       "      <th>Scanning Speed (mm/min)</th>\n",
       "      <th>Powder Flowrate (g/min)</th>\n",
       "      <th>Bead Dimension,f (μm)\\n(f = h/w, 0.2&lt;f&lt;0.33 )</th>\n",
       "      <th>Bead dilution (μm)\\n(d = p/h, d &gt; 0.1)</th>\n",
       "      <th>Hardness (HV)</th>\n",
       "    </tr>\n",
       "  </thead>\n",
       "  <tbody>\n",
       "    <tr>\n",
       "      <th>0</th>\n",
       "      <td>1</td>\n",
       "      <td>300</td>\n",
       "      <td>600</td>\n",
       "      <td>3</td>\n",
       "      <td>0.733057</td>\n",
       "      <td>0.105660</td>\n",
       "      <td>551.50</td>\n",
       "    </tr>\n",
       "    <tr>\n",
       "      <th>1</th>\n",
       "      <td>2</td>\n",
       "      <td>300</td>\n",
       "      <td>600</td>\n",
       "      <td>5</td>\n",
       "      <td>0.957627</td>\n",
       "      <td>0.087021</td>\n",
       "      <td>557.46</td>\n",
       "    </tr>\n",
       "    <tr>\n",
       "      <th>2</th>\n",
       "      <td>3</td>\n",
       "      <td>300</td>\n",
       "      <td>600</td>\n",
       "      <td>7</td>\n",
       "      <td>1.142222</td>\n",
       "      <td>0.081712</td>\n",
       "      <td>590.62</td>\n",
       "    </tr>\n",
       "    <tr>\n",
       "      <th>3</th>\n",
       "      <td>4</td>\n",
       "      <td>300</td>\n",
       "      <td>600</td>\n",
       "      <td>9</td>\n",
       "      <td>1.453159</td>\n",
       "      <td>0.038981</td>\n",
       "      <td>561.78</td>\n",
       "    </tr>\n",
       "    <tr>\n",
       "      <th>4</th>\n",
       "      <td>5</td>\n",
       "      <td>300</td>\n",
       "      <td>800</td>\n",
       "      <td>3</td>\n",
       "      <td>0.785021</td>\n",
       "      <td>0.104240</td>\n",
       "      <td>603.78</td>\n",
       "    </tr>\n",
       "  </tbody>\n",
       "</table>\n",
       "</div>"
      ],
      "text/plain": [
       "   Experiment #  ...  Hardness (HV)\n",
       "0             1  ...         551.50\n",
       "1             2  ...         557.46\n",
       "2             3  ...         590.62\n",
       "3             4  ...         561.78\n",
       "4             5  ...         603.78\n",
       "\n",
       "[5 rows x 7 columns]"
      ]
     },
     "execution_count": 3,
     "metadata": {},
     "output_type": "execute_result"
    }
   ],
   "source": [
    "data.head(5)"
   ]
  },
  {
   "cell_type": "markdown",
   "metadata": {
    "id": "F0M5Q5e4Rmgh"
   },
   "source": [
    "### 5 last records of data"
   ]
  },
  {
   "cell_type": "code",
   "execution_count": 4,
   "metadata": {
    "colab": {
     "base_uri": "https://localhost:8080/",
     "height": 204
    },
    "id": "L7kd8iFMRmgh",
    "outputId": "eaf97159-a599-4d90-e397-07450ba8b788"
   },
   "outputs": [
    {
     "data": {
      "text/html": [
       "<div>\n",
       "<style scoped>\n",
       "    .dataframe tbody tr th:only-of-type {\n",
       "        vertical-align: middle;\n",
       "    }\n",
       "\n",
       "    .dataframe tbody tr th {\n",
       "        vertical-align: top;\n",
       "    }\n",
       "\n",
       "    .dataframe thead th {\n",
       "        text-align: right;\n",
       "    }\n",
       "</style>\n",
       "<table border=\"1\" class=\"dataframe\">\n",
       "  <thead>\n",
       "    <tr style=\"text-align: right;\">\n",
       "      <th></th>\n",
       "      <th>Experiment #</th>\n",
       "      <th>Laser power (W)</th>\n",
       "      <th>Scanning Speed (mm/min)</th>\n",
       "      <th>Powder Flowrate (g/min)</th>\n",
       "      <th>Bead Dimension,f (μm)\\n(f = h/w, 0.2&lt;f&lt;0.33 )</th>\n",
       "      <th>Bead dilution (μm)\\n(d = p/h, d &gt; 0.1)</th>\n",
       "      <th>Hardness (HV)</th>\n",
       "    </tr>\n",
       "  </thead>\n",
       "  <tbody>\n",
       "    <tr>\n",
       "      <th>43</th>\n",
       "      <td>44</td>\n",
       "      <td>500</td>\n",
       "      <td>1000</td>\n",
       "      <td>9</td>\n",
       "      <td>1.142174</td>\n",
       "      <td>0.158996</td>\n",
       "      <td>742.62</td>\n",
       "    </tr>\n",
       "    <tr>\n",
       "      <th>44</th>\n",
       "      <td>45</td>\n",
       "      <td>500</td>\n",
       "      <td>1200</td>\n",
       "      <td>3</td>\n",
       "      <td>0.917703</td>\n",
       "      <td>0.067779</td>\n",
       "      <td>738.50</td>\n",
       "    </tr>\n",
       "    <tr>\n",
       "      <th>45</th>\n",
       "      <td>46</td>\n",
       "      <td>500</td>\n",
       "      <td>1200</td>\n",
       "      <td>5</td>\n",
       "      <td>1.007289</td>\n",
       "      <td>0.173661</td>\n",
       "      <td>736.36</td>\n",
       "    </tr>\n",
       "    <tr>\n",
       "      <th>46</th>\n",
       "      <td>47</td>\n",
       "      <td>500</td>\n",
       "      <td>1200</td>\n",
       "      <td>7</td>\n",
       "      <td>0.950617</td>\n",
       "      <td>0.132231</td>\n",
       "      <td>730.92</td>\n",
       "    </tr>\n",
       "    <tr>\n",
       "      <th>47</th>\n",
       "      <td>48</td>\n",
       "      <td>500</td>\n",
       "      <td>1200</td>\n",
       "      <td>9</td>\n",
       "      <td>1.144291</td>\n",
       "      <td>0.131579</td>\n",
       "      <td>688.48</td>\n",
       "    </tr>\n",
       "  </tbody>\n",
       "</table>\n",
       "</div>"
      ],
      "text/plain": [
       "    Experiment #  ...  Hardness (HV)\n",
       "43            44  ...         742.62\n",
       "44            45  ...         738.50\n",
       "45            46  ...         736.36\n",
       "46            47  ...         730.92\n",
       "47            48  ...         688.48\n",
       "\n",
       "[5 rows x 7 columns]"
      ]
     },
     "execution_count": 4,
     "metadata": {},
     "output_type": "execute_result"
    }
   ],
   "source": [
    "data.tail(5)"
   ]
  },
  {
   "cell_type": "markdown",
   "metadata": {
    "id": "85aOXGQmRmgi"
   },
   "source": [
    "### Dropping \"Experiment #\" its only a index"
   ]
  },
  {
   "cell_type": "code",
   "execution_count": 5,
   "metadata": {
    "colab": {
     "base_uri": "https://localhost:8080/",
     "height": 204
    },
    "id": "V4oxp2qARmgi",
    "outputId": "bf0a1fbe-4a30-443c-a608-933ff7df3473"
   },
   "outputs": [
    {
     "data": {
      "text/html": [
       "<div>\n",
       "<style scoped>\n",
       "    .dataframe tbody tr th:only-of-type {\n",
       "        vertical-align: middle;\n",
       "    }\n",
       "\n",
       "    .dataframe tbody tr th {\n",
       "        vertical-align: top;\n",
       "    }\n",
       "\n",
       "    .dataframe thead th {\n",
       "        text-align: right;\n",
       "    }\n",
       "</style>\n",
       "<table border=\"1\" class=\"dataframe\">\n",
       "  <thead>\n",
       "    <tr style=\"text-align: right;\">\n",
       "      <th></th>\n",
       "      <th>Laser power (W)</th>\n",
       "      <th>Scanning Speed (mm/min)</th>\n",
       "      <th>Powder Flowrate (g/min)</th>\n",
       "      <th>Bead Dimension,f (μm)\\n(f = h/w, 0.2&lt;f&lt;0.33 )</th>\n",
       "      <th>Bead dilution (μm)\\n(d = p/h, d &gt; 0.1)</th>\n",
       "      <th>Hardness (HV)</th>\n",
       "    </tr>\n",
       "  </thead>\n",
       "  <tbody>\n",
       "    <tr>\n",
       "      <th>0</th>\n",
       "      <td>300</td>\n",
       "      <td>600</td>\n",
       "      <td>3</td>\n",
       "      <td>0.733057</td>\n",
       "      <td>0.105660</td>\n",
       "      <td>551.50</td>\n",
       "    </tr>\n",
       "    <tr>\n",
       "      <th>1</th>\n",
       "      <td>300</td>\n",
       "      <td>600</td>\n",
       "      <td>5</td>\n",
       "      <td>0.957627</td>\n",
       "      <td>0.087021</td>\n",
       "      <td>557.46</td>\n",
       "    </tr>\n",
       "    <tr>\n",
       "      <th>2</th>\n",
       "      <td>300</td>\n",
       "      <td>600</td>\n",
       "      <td>7</td>\n",
       "      <td>1.142222</td>\n",
       "      <td>0.081712</td>\n",
       "      <td>590.62</td>\n",
       "    </tr>\n",
       "    <tr>\n",
       "      <th>3</th>\n",
       "      <td>300</td>\n",
       "      <td>600</td>\n",
       "      <td>9</td>\n",
       "      <td>1.453159</td>\n",
       "      <td>0.038981</td>\n",
       "      <td>561.78</td>\n",
       "    </tr>\n",
       "    <tr>\n",
       "      <th>4</th>\n",
       "      <td>300</td>\n",
       "      <td>800</td>\n",
       "      <td>3</td>\n",
       "      <td>0.785021</td>\n",
       "      <td>0.104240</td>\n",
       "      <td>603.78</td>\n",
       "    </tr>\n",
       "  </tbody>\n",
       "</table>\n",
       "</div>"
      ],
      "text/plain": [
       "   Laser power (W)  ...  Hardness (HV)\n",
       "0              300  ...         551.50\n",
       "1              300  ...         557.46\n",
       "2              300  ...         590.62\n",
       "3              300  ...         561.78\n",
       "4              300  ...         603.78\n",
       "\n",
       "[5 rows x 6 columns]"
      ]
     },
     "execution_count": 5,
     "metadata": {},
     "output_type": "execute_result"
    }
   ],
   "source": [
    "data=data.drop('Experiment #', axis=1)\n",
    "data.head()"
   ]
  },
  {
   "cell_type": "markdown",
   "metadata": {
    "id": "BjEvePbRRmgi"
   },
   "source": [
    "### Coloumns/features in data"
   ]
  },
  {
   "cell_type": "code",
   "execution_count": 6,
   "metadata": {
    "colab": {
     "base_uri": "https://localhost:8080/"
    },
    "id": "hpEcAjK6Rmgj",
    "outputId": "8e730b9f-a41a-4d71-977b-704cb018e205"
   },
   "outputs": [
    {
     "data": {
      "text/plain": [
       "Index(['Laser power (W)', 'Scanning Speed (mm/min)', 'Powder Flowrate (g/min)',\n",
       "       'Bead Dimension,f (μm)\\n(f = h/w, 0.2<f<0.33 )',\n",
       "       'Bead dilution (μm)\\n(d = p/h, d > 0.1)', 'Hardness (HV)'],\n",
       "      dtype='object')"
      ]
     },
     "execution_count": 6,
     "metadata": {},
     "output_type": "execute_result"
    }
   ],
   "source": [
    "data.columns"
   ]
  },
  {
   "cell_type": "markdown",
   "metadata": {
    "id": "YghGPus4Rmgj"
   },
   "source": [
    "### Length of data"
   ]
  },
  {
   "cell_type": "code",
   "execution_count": 7,
   "metadata": {
    "colab": {
     "base_uri": "https://localhost:8080/"
    },
    "id": "61fP_VcHRmgj",
    "outputId": "7e82dfae-7ab2-4ced-b2c6-63a8f3ad54ec"
   },
   "outputs": [
    {
     "name": "stdout",
     "output_type": "stream",
     "text": [
      "lenght of data is 48\n"
     ]
    }
   ],
   "source": [
    "print('lenght of data is', len(data))"
   ]
  },
  {
   "cell_type": "markdown",
   "metadata": {
    "id": "Pj1NXdnARmgj"
   },
   "source": [
    "### Shape of data"
   ]
  },
  {
   "cell_type": "code",
   "execution_count": 8,
   "metadata": {
    "colab": {
     "base_uri": "https://localhost:8080/"
    },
    "id": "aTyegwDXRmgk",
    "outputId": "d7e5e385-1541-4484-cded-05df33c7b6f8"
   },
   "outputs": [
    {
     "data": {
      "text/plain": [
       "(48, 6)"
      ]
     },
     "execution_count": 8,
     "metadata": {},
     "output_type": "execute_result"
    }
   ],
   "source": [
    "data.shape"
   ]
  },
  {
   "cell_type": "markdown",
   "metadata": {
    "id": "qsR26ba4Rmgk"
   },
   "source": [
    "### Data information"
   ]
  },
  {
   "cell_type": "code",
   "execution_count": 9,
   "metadata": {
    "colab": {
     "base_uri": "https://localhost:8080/"
    },
    "id": "yxK8teqfRmgl",
    "outputId": "e3b6c4f4-2c9f-45c3-a08c-a76e14aaeec8",
    "scrolled": false
   },
   "outputs": [
    {
     "name": "stdout",
     "output_type": "stream",
     "text": [
      "<class 'pandas.core.frame.DataFrame'>\n",
      "RangeIndex: 48 entries, 0 to 47\n",
      "Data columns (total 6 columns):\n",
      " #   Column                                        Non-Null Count  Dtype  \n",
      "---  ------                                        --------------  -----  \n",
      " 0   Laser power (W)                               48 non-null     int64  \n",
      " 1   Scanning Speed (mm/min)                       48 non-null     int64  \n",
      " 2   Powder Flowrate (g/min)                       48 non-null     int64  \n",
      " 3   Bead Dimension,f (μm)\n",
      "(f = h/w, 0.2<f<0.33 )  48 non-null     float64\n",
      " 4   Bead dilution (μm)\n",
      "(d = p/h, d > 0.1)         48 non-null     float64\n",
      " 5   Hardness (HV)                                 48 non-null     float64\n",
      "dtypes: float64(3), int64(3)\n",
      "memory usage: 2.4 KB\n"
     ]
    }
   ],
   "source": [
    "data.info()"
   ]
  },
  {
   "cell_type": "markdown",
   "metadata": {
    "id": "fCh8FcyMRmgl"
   },
   "source": [
    "### Data types of all columns"
   ]
  },
  {
   "cell_type": "code",
   "execution_count": 10,
   "metadata": {
    "colab": {
     "base_uri": "https://localhost:8080/"
    },
    "id": "9r0IlH02Rmgl",
    "outputId": "3a38c38e-22f3-48c4-9649-f7e0271af873"
   },
   "outputs": [
    {
     "data": {
      "text/plain": [
       "Laser power (W)                                    int64\n",
       "Scanning Speed (mm/min)                            int64\n",
       "Powder Flowrate (g/min)                            int64\n",
       "Bead Dimension,f (μm)\\n(f = h/w, 0.2<f<0.33 )    float64\n",
       "Bead dilution (μm)\\n(d = p/h, d > 0.1)           float64\n",
       "Hardness (HV)                                    float64\n",
       "dtype: object"
      ]
     },
     "execution_count": 10,
     "metadata": {},
     "output_type": "execute_result"
    }
   ],
   "source": [
    "data.dtypes"
   ]
  },
  {
   "cell_type": "markdown",
   "metadata": {
    "id": "VRIAbdXfRmgl"
   },
   "source": [
    "### Checking Null values"
   ]
  },
  {
   "cell_type": "code",
   "execution_count": 11,
   "metadata": {
    "colab": {
     "base_uri": "https://localhost:8080/"
    },
    "id": "4CiVm205Rmgm",
    "outputId": "1fe4688c-5f1a-49af-83fd-950c47f39da8",
    "scrolled": true
   },
   "outputs": [
    {
     "data": {
      "text/plain": [
       "0"
      ]
     },
     "execution_count": 11,
     "metadata": {},
     "output_type": "execute_result"
    }
   ],
   "source": [
    "np.sum(data.isnull().any(axis=1))"
   ]
  },
  {
   "cell_type": "markdown",
   "metadata": {
    "id": "F2f9OQNuRmgm"
   },
   "source": [
    "### Rows and columns in the dataset"
   ]
  },
  {
   "cell_type": "code",
   "execution_count": 12,
   "metadata": {
    "colab": {
     "base_uri": "https://localhost:8080/"
    },
    "id": "FZabjdYCRmgm",
    "outputId": "b92ea458-153c-40af-a4d9-f1a51eafa469"
   },
   "outputs": [
    {
     "name": "stdout",
     "output_type": "stream",
     "text": [
      "Count of columns in the dataopna. is:   6\n"
     ]
    }
   ],
   "source": [
    "print('Count of columns in the dataopna. is:  ', len(data.columns))"
   ]
  },
  {
   "cell_type": "code",
   "execution_count": 13,
   "metadata": {
    "colab": {
     "base_uri": "https://localhost:8080/"
    },
    "id": "H7F03Z2rRmgn",
    "outputId": "64ed37b1-e6d8-4969-fb00-4e7595acc4b7"
   },
   "outputs": [
    {
     "name": "stdout",
     "output_type": "stream",
     "text": [
      "Count of rows in the data is:   48\n"
     ]
    }
   ],
   "source": [
    "print('Count of rows in the data is:  ', len(data))"
   ]
  },
  {
   "cell_type": "markdown",
   "metadata": {
    "id": "LltukO7iRmgn"
   },
   "source": [
    "### Checking duplicate data"
   ]
  },
  {
   "cell_type": "code",
   "execution_count": 14,
   "metadata": {
    "colab": {
     "base_uri": "https://localhost:8080/"
    },
    "id": "HCrzH1tGRmgn",
    "outputId": "41522b8f-79aa-4013-bddc-8035edcf9844"
   },
   "outputs": [
    {
     "name": "stdout",
     "output_type": "stream",
     "text": [
      "Rows of data before Delecting  48\n"
     ]
    }
   ],
   "source": [
    "current=len(data)\n",
    "print('Rows of data before Deleting ', current)"
   ]
  },
  {
   "cell_type": "code",
   "execution_count": 15,
   "metadata": {
    "id": "dlT-7K1FRmgn"
   },
   "outputs": [],
   "source": [
    "data=data.drop_duplicates()"
   ]
  },
  {
   "cell_type": "code",
   "execution_count": 16,
   "metadata": {
    "colab": {
     "base_uri": "https://localhost:8080/"
    },
    "id": "xNWXnmZaRmgo",
    "outputId": "ba80dade-42f6-41db-8122-8c93a0176c85"
   },
   "outputs": [
    {
     "name": "stdout",
     "output_type": "stream",
     "text": [
      "Rows of data before Delecting  48\n"
     ]
    }
   ],
   "source": [
    "now=len(data)\n",
    "print('Rows of data before Deleting ', now)"
   ]
  },
  {
   "cell_type": "code",
   "execution_count": 17,
   "metadata": {
    "colab": {
     "base_uri": "https://localhost:8080/"
    },
    "id": "a8fCTwBKRmgo",
    "outputId": "fe5a06ed-7358-496c-9057-231f2442c720"
   },
   "outputs": [
    {
     "name": "stdout",
     "output_type": "stream",
     "text": [
      "Duplicated rows are  0\n"
     ]
    }
   ],
   "source": [
    "diff=current-now\n",
    "print('Duplicated rows are ', diff)"
   ]
  },
  {
   "cell_type": "markdown",
   "metadata": {
    "id": "2eNRO5b1Rmgo"
   },
   "source": [
    "### Checking Null values"
   ]
  },
  {
   "cell_type": "code",
   "execution_count": 18,
   "metadata": {
    "colab": {
     "base_uri": "https://localhost:8080/"
    },
    "id": "sshk0ESSRmgp",
    "outputId": "3ba97204-37ca-4aaa-b6db-a0a9fbc816c3"
   },
   "outputs": [
    {
     "data": {
      "text/plain": [
       "Laser power (W)                                  0\n",
       "Scanning Speed (mm/min)                          0\n",
       "Powder Flowrate (g/min)                          0\n",
       "Bead Dimension,f (μm)\\n(f = h/w, 0.2<f<0.33 )    0\n",
       "Bead dilution (μm)\\n(d = p/h, d > 0.1)           0\n",
       "Hardness (HV)                                    0\n",
       "dtype: int64"
      ]
     },
     "execution_count": 18,
     "metadata": {},
     "output_type": "execute_result"
    }
   ],
   "source": [
    "data.isnull().sum()"
   ]
  },
  {
   "cell_type": "markdown",
   "metadata": {
    "id": "56P7O4NoRmgp"
   },
   "source": [
    "### Data description with mean and standard deviation and others"
   ]
  },
  {
   "cell_type": "code",
   "execution_count": 19,
   "metadata": {
    "colab": {
     "base_uri": "https://localhost:8080/",
     "height": 297
    },
    "id": "d71oNfftRmgp",
    "outputId": "be935d8d-3050-4a73-c557-613e66d6f628"
   },
   "outputs": [
    {
     "data": {
      "text/html": [
       "<div>\n",
       "<style scoped>\n",
       "    .dataframe tbody tr th:only-of-type {\n",
       "        vertical-align: middle;\n",
       "    }\n",
       "\n",
       "    .dataframe tbody tr th {\n",
       "        vertical-align: top;\n",
       "    }\n",
       "\n",
       "    .dataframe thead th {\n",
       "        text-align: right;\n",
       "    }\n",
       "</style>\n",
       "<table border=\"1\" class=\"dataframe\">\n",
       "  <thead>\n",
       "    <tr style=\"text-align: right;\">\n",
       "      <th></th>\n",
       "      <th>Laser power (W)</th>\n",
       "      <th>Scanning Speed (mm/min)</th>\n",
       "      <th>Powder Flowrate (g/min)</th>\n",
       "      <th>Bead Dimension,f (μm)\\n(f = h/w, 0.2&lt;f&lt;0.33 )</th>\n",
       "      <th>Bead dilution (μm)\\n(d = p/h, d &gt; 0.1)</th>\n",
       "      <th>Hardness (HV)</th>\n",
       "    </tr>\n",
       "  </thead>\n",
       "  <tbody>\n",
       "    <tr>\n",
       "      <th>count</th>\n",
       "      <td>48.0000</td>\n",
       "      <td>48.000000</td>\n",
       "      <td>48.000000</td>\n",
       "      <td>48.000000</td>\n",
       "      <td>48.000000</td>\n",
       "      <td>48.000000</td>\n",
       "    </tr>\n",
       "    <tr>\n",
       "      <th>mean</th>\n",
       "      <td>400.0000</td>\n",
       "      <td>900.000000</td>\n",
       "      <td>6.000000</td>\n",
       "      <td>0.911705</td>\n",
       "      <td>0.108343</td>\n",
       "      <td>655.490000</td>\n",
       "    </tr>\n",
       "    <tr>\n",
       "      <th>std</th>\n",
       "      <td>82.5137</td>\n",
       "      <td>225.973073</td>\n",
       "      <td>2.259731</td>\n",
       "      <td>0.265556</td>\n",
       "      <td>0.071039</td>\n",
       "      <td>94.366143</td>\n",
       "    </tr>\n",
       "    <tr>\n",
       "      <th>min</th>\n",
       "      <td>300.0000</td>\n",
       "      <td>600.000000</td>\n",
       "      <td>3.000000</td>\n",
       "      <td>0.257246</td>\n",
       "      <td>0.000000</td>\n",
       "      <td>509.140000</td>\n",
       "    </tr>\n",
       "    <tr>\n",
       "      <th>25%</th>\n",
       "      <td>300.0000</td>\n",
       "      <td>750.000000</td>\n",
       "      <td>4.500000</td>\n",
       "      <td>0.726616</td>\n",
       "      <td>0.071360</td>\n",
       "      <td>580.380000</td>\n",
       "    </tr>\n",
       "    <tr>\n",
       "      <th>50%</th>\n",
       "      <td>400.0000</td>\n",
       "      <td>900.000000</td>\n",
       "      <td>6.000000</td>\n",
       "      <td>0.948760</td>\n",
       "      <td>0.102715</td>\n",
       "      <td>619.960000</td>\n",
       "    </tr>\n",
       "    <tr>\n",
       "      <th>75%</th>\n",
       "      <td>500.0000</td>\n",
       "      <td>1050.000000</td>\n",
       "      <td>7.500000</td>\n",
       "      <td>1.085877</td>\n",
       "      <td>0.131742</td>\n",
       "      <td>743.455000</td>\n",
       "    </tr>\n",
       "    <tr>\n",
       "      <th>max</th>\n",
       "      <td>500.0000</td>\n",
       "      <td>1200.000000</td>\n",
       "      <td>9.000000</td>\n",
       "      <td>1.453159</td>\n",
       "      <td>0.429577</td>\n",
       "      <td>812.460000</td>\n",
       "    </tr>\n",
       "  </tbody>\n",
       "</table>\n",
       "</div>"
      ],
      "text/plain": [
       "       Laser power (W)  ...  Hardness (HV)\n",
       "count          48.0000  ...      48.000000\n",
       "mean          400.0000  ...     655.490000\n",
       "std            82.5137  ...      94.366143\n",
       "min           300.0000  ...     509.140000\n",
       "25%           300.0000  ...     580.380000\n",
       "50%           400.0000  ...     619.960000\n",
       "75%           500.0000  ...     743.455000\n",
       "max           500.0000  ...     812.460000\n",
       "\n",
       "[8 rows x 6 columns]"
      ]
     },
     "execution_count": 19,
     "metadata": {},
     "output_type": "execute_result"
    }
   ],
   "source": [
    "data.describe()"
   ]
  },
  {
   "cell_type": "markdown",
   "metadata": {
    "id": "seMSfVasRmgp"
   },
   "source": [
    "### There are the visual representation of the features/columns that each column have different values as we can see in the graphs. Each graph shwoing each column\n"
   ]
  },
  {
   "cell_type": "code",
   "execution_count": 20,
   "metadata": {
    "colab": {
     "base_uri": "https://localhost:8080/",
     "height": 716
    },
    "id": "1c4pVL2QRmgq",
    "outputId": "606484ec-7a93-41bf-ccea-8f0b3b8e96ee"
   },
   "outputs": [
    {
     "data": {
      "image/png": "[encoded data removed]",
      "text/plain": [
       "<Figure size 1080x864 with 6 Axes>"
      ]
     },
     "metadata": {
      "needs_background": "light"
     },
     "output_type": "display_data"
    }
   ],
   "source": [
    "data.hist(figsize=(15,12),bins = 20, color=\"#107009AA\")\n",
    "plt.title(\"Features Distribution\")\n",
    "plt.show()"
   ]
  },
  {
   "cell_type": "code",
   "execution_count": 21,
   "metadata": {
    "colab": {
     "base_uri": "https://localhost:8080/",
     "height": 1000
    },
    "id": "cL7kEZUpM2cH",
    "outputId": "412d24c1-d967-45f1-bc75-02898621cf5a"
   },
   "outputs": [
    {
     "data": {
      "text/plain": [
       "<seaborn.axisgrid.PairGrid at 0x7ff60ccf6bd0>"
      ]
     },
     "execution_count": 21,
     "metadata": {},
     "output_type": "execute_result"
    },
    {
     "data": {
      "image/png": "[encoded data removed]",
      "text/plain": [
       "<Figure size 1296x1296 with 42 Axes>"
      ]
     },
     "metadata": {
      "needs_background": "light"
     },
     "output_type": "display_data"
    }
   ],
   "source": [
    "# Visualize the data using scatter plot and histogram\n",
    "sns.set_palette('colorblind')\n",
    "sns.pairplot(data=data, height=3)"
   ]
  },
  {
   "cell_type": "markdown",
   "metadata": {
    "id": "FijOzAPrGrse"
   },
   "source": [
    "# Bivariate Analysis"
   ]
  },
  {
   "cell_type": "markdown",
   "metadata": {
    "id": "crkxCnfeHH82"
   },
   "source": [
    "Bivariate Analysis to check for outliers and analyse more data"
   ]
  },
  {
   "cell_type": "code",
   "execution_count": 22,
   "metadata": {
    "colab": {
     "base_uri": "https://localhost:8080/",
     "height": 279
    },
    "id": "R-OLNCtuGwNF",
    "outputId": "702b8778-a79a-404f-8fd9-e75881e835c1"
   },
   "outputs": [
    {
     "data": {
      "image/png": "[encoded data removed]",
      "text/plain": [
       "<Figure size 432x288 with 1 Axes>"
      ]
     },
     "metadata": {
      "needs_background": "light"
     },
     "output_type": "display_data"
    }
   ],
   "source": [
    "sns.boxplot(x = data['Laser power (W)'], y = data['Scanning Speed (mm/min)'], data=data)\n",
    "plt.show()"
   ]
  },
  {
   "cell_type": "code",
   "execution_count": 23,
   "metadata": {
    "colab": {
     "base_uri": "https://localhost:8080/",
     "height": 279
    },
    "id": "5zOD3-f2HYN-",
    "outputId": "10ff9b2c-fca5-4fe0-a3e6-10ff1e89a494"
   },
   "outputs": [
    {
     "data": {
      "image/png": "[encoded data removed]",
      "text/plain": [
       "<Figure size 432x288 with 1 Axes>"
      ]
     },
     "metadata": {
      "needs_background": "light"
     },
     "output_type": "display_data"
    }
   ],
   "source": [
    "sns.boxplot(x = data['Laser power (W)'], y = data['Powder Flowrate (g/min)'], data=data)\n",
    "plt.show()"
   ]
  },
  {
   "cell_type": "code",
   "execution_count": 24,
   "metadata": {
    "colab": {
     "base_uri": "https://localhost:8080/",
     "height": 279
    },
    "id": "sVWD655vHeLG",
    "outputId": "f6e75a22-825f-463e-8cd6-2ed32c617eb0"
   },
   "outputs": [
    {
     "data": {
      "image/png": "[encoded data removed]",
      "text/plain": [
       "<Figure size 432x288 with 1 Axes>"
      ]
     },
     "metadata": {
      "needs_background": "light"
     },
     "output_type": "display_data"
    }
   ],
   "source": [
    "sns.boxplot(x = data['Laser power (W)'], y = data['Bead Dimension,f (μm)\\n(f = h/w, 0.2<f<0.33 )'], data=data)\n",
    "plt.show()"
   ]
  },
  {
   "cell_type": "code",
   "execution_count": 25,
   "metadata": {
    "colab": {
     "base_uri": "https://localhost:8080/",
     "height": 279
    },
    "id": "7OG0U3xUHr5G",
    "outputId": "7f0114e4-b05d-4985-931f-4eda23f3e5cb"
   },
   "outputs": [
    {
     "data": {
      "image/png": "[encoded data removed]",
      "text/plain": [
       "<Figure size 432x288 with 1 Axes>"
      ]
     },
     "metadata": {
      "needs_background": "light"
     },
     "output_type": "display_data"
    }
   ],
   "source": [
    "sns.boxplot(x = data['Laser power (W)'], y = data['Bead dilution (μm)\\n(d = p/h, d > 0.1)'], data=data)\n",
    "plt.show()"
   ]
  },
  {
   "cell_type": "code",
   "execution_count": 26,
   "metadata": {
    "colab": {
     "base_uri": "https://localhost:8080/",
     "height": 279
    },
    "id": "25sm2WcHIE0F",
    "outputId": "d22e8fc8-3c05-4604-d6c9-aeb10734a7b7"
   },
   "outputs": [
    {
     "data": {
      "image/png": "[encoded data removed]",
      "text/plain": [
       "<Figure size 432x288 with 1 Axes>"
      ]
     },
     "metadata": {
      "needs_background": "light"
     },
     "output_type": "display_data"
    }
   ],
   "source": [
    "sns.boxplot(x = data['Laser power (W)'], y = data['Hardness (HV)'], data=data)\n",
    "plt.show()"
   ]
  },
  {
   "cell_type": "markdown",
   "metadata": {
    "id": "y6Br8NhtRmgq"
   },
   "source": [
    "# Correlation of features "
   ]
  },
  {
   "cell_type": "code",
   "execution_count": 27,
   "metadata": {
    "colab": {
     "base_uri": "https://localhost:8080/",
     "height": 409
    },
    "id": "mL-TLi9gRmgq",
    "outputId": "5d9fb266-043b-45de-c8aa-b2d938f21d33"
   },
   "outputs": [
    {
     "data": {
      "text/plain": [
       "<matplotlib.axes._subplots.AxesSubplot at 0x7ff600994850>"
      ]
     },
     "execution_count": 27,
     "metadata": {},
     "output_type": "execute_result"
    },
    {
     "data": {
      "image/png": "[encoded data removed]",
      "text/plain": [
       "<Figure size 432x288 with 2 Axes>"
      ]
     },
     "metadata": {
      "needs_background": "light"
     },
     "output_type": "display_data"
    }
   ],
   "source": [
    "corr = data.corr()\n",
    "sns.heatmap(corr, cmap='coolwarm_r', annot_kws={'size':20})"
   ]
  },
  {
   "cell_type": "code",
   "execution_count": 28,
   "metadata": {
    "colab": {
     "base_uri": "https://localhost:8080/",
     "height": 747
    },
    "id": "hZ3bkQRNJSjB",
    "outputId": "19eb23f0-8427-4d2f-acb5-e0a4e6265d64"
   },
   "outputs": [
    {
     "data": {
      "text/plain": [
       "Text(0.5, 1.0, 'Correlation between different fearures')"
      ]
     },
     "execution_count": 28,
     "metadata": {},
     "output_type": "execute_result"
    },
    {
     "data": {
      "image/png": "[encoded data removed]",
      "text/plain": [
       "<Figure size 720x720 with 2 Axes>"
      ]
     },
     "metadata": {
      "needs_background": "light"
     },
     "output_type": "display_data"
    }
   ],
   "source": [
    "# plot correlation\n",
    "corr = data.corr()\n",
    "plt.figure(figsize=(10,10))\n",
    "sns.heatmap(corr,annot=True,cmap=\"RdYlGn\")\n",
    "plt.title('Correlation between different fearures')"
   ]
  },
  {
   "cell_type": "code",
   "execution_count": 29,
   "metadata": {
    "colab": {
     "base_uri": "https://localhost:8080/"
    },
    "id": "XOpnVwu5Rmgq",
    "outputId": "b0c320b1-f49c-49c0-fcaa-e4cecab68ed6"
   },
   "outputs": [
    {
     "data": {
      "text/plain": [
       "Index(['Laser power (W)', 'Scanning Speed (mm/min)', 'Powder Flowrate (g/min)',\n",
       "       'Bead Dimension,f (μm)\\n(f = h/w, 0.2<f<0.33 )',\n",
       "       'Bead dilution (μm)\\n(d = p/h, d > 0.1)', 'Hardness (HV)'],\n",
       "      dtype='object')"
      ]
     },
     "execution_count": 29,
     "metadata": {},
     "output_type": "execute_result"
    }
   ],
   "source": [
    "data.columns"
   ]
  },
  {
   "cell_type": "markdown",
   "metadata": {
    "id": "mL-x9kJFRmgq"
   },
   "source": [
    "### Splitting the input features and output/label separately"
   ]
  },
  {
   "cell_type": "code",
   "execution_count": 30,
   "metadata": {
    "id": "Bn5gzUy1Rmgr"
   },
   "outputs": [],
   "source": [
    "input_features=data[['Laser power (W)','Scanning Speed (mm/min)','Powder Flowrate (g/min)']]\n",
    "output_target=data[['Bead Dimension,f (μm)\\n(f = h/w, 0.2<f<0.33 )', 'Bead dilution (μm)\\n(d = p/h, d > 0.1)','Hardness (HV)']]"
   ]
  },
  {
   "cell_type": "code",
   "execution_count": 31,
   "metadata": {
    "colab": {
     "base_uri": "https://localhost:8080/",
     "height": 204
    },
    "id": "hTaQELccRmgr",
    "outputId": "95a0b075-2fdd-49f0-8e9e-6e141dc4894e"
   },
   "outputs": [
    {
     "data": {
      "text/html": [
       "<div>\n",
       "<style scoped>\n",
       "    .dataframe tbody tr th:only-of-type {\n",
       "        vertical-align: middle;\n",
       "    }\n",
       "\n",
       "    .dataframe tbody tr th {\n",
       "        vertical-align: top;\n",
       "    }\n",
       "\n",
       "    .dataframe thead th {\n",
       "        text-align: right;\n",
       "    }\n",
       "</style>\n",
       "<table border=\"1\" class=\"dataframe\">\n",
       "  <thead>\n",
       "    <tr style=\"text-align: right;\">\n",
       "      <th></th>\n",
       "      <th>Laser power (W)</th>\n",
       "      <th>Scanning Speed (mm/min)</th>\n",
       "      <th>Powder Flowrate (g/min)</th>\n",
       "    </tr>\n",
       "  </thead>\n",
       "  <tbody>\n",
       "    <tr>\n",
       "      <th>0</th>\n",
       "      <td>300</td>\n",
       "      <td>600</td>\n",
       "      <td>3</td>\n",
       "    </tr>\n",
       "    <tr>\n",
       "      <th>1</th>\n",
       "      <td>300</td>\n",
       "      <td>600</td>\n",
       "      <td>5</td>\n",
       "    </tr>\n",
       "    <tr>\n",
       "      <th>2</th>\n",
       "      <td>300</td>\n",
       "      <td>600</td>\n",
       "      <td>7</td>\n",
       "    </tr>\n",
       "    <tr>\n",
       "      <th>3</th>\n",
       "      <td>300</td>\n",
       "      <td>600</td>\n",
       "      <td>9</td>\n",
       "    </tr>\n",
       "    <tr>\n",
       "      <th>4</th>\n",
       "      <td>300</td>\n",
       "      <td>800</td>\n",
       "      <td>3</td>\n",
       "    </tr>\n",
       "  </tbody>\n",
       "</table>\n",
       "</div>"
      ],
      "text/plain": [
       "   Laser power (W)  Scanning Speed (mm/min)  Powder Flowrate (g/min)\n",
       "0              300                      600                        3\n",
       "1              300                      600                        5\n",
       "2              300                      600                        7\n",
       "3              300                      600                        9\n",
       "4              300                      800                        3"
      ]
     },
     "execution_count": 31,
     "metadata": {},
     "output_type": "execute_result"
    }
   ],
   "source": [
    "input_features.head()"
   ]
  },
  {
   "cell_type": "code",
   "execution_count": 32,
   "metadata": {
    "colab": {
     "base_uri": "https://localhost:8080/",
     "height": 204
    },
    "id": "J59EUwUNRmgr",
    "outputId": "74b78a97-6215-4960-c19f-f6f2f0cbd5f6"
   },
   "outputs": [
    {
     "data": {
      "text/html": [
       "<div>\n",
       "<style scoped>\n",
       "    .dataframe tbody tr th:only-of-type {\n",
       "        vertical-align: middle;\n",
       "    }\n",
       "\n",
       "    .dataframe tbody tr th {\n",
       "        vertical-align: top;\n",
       "    }\n",
       "\n",
       "    .dataframe thead th {\n",
       "        text-align: right;\n",
       "    }\n",
       "</style>\n",
       "<table border=\"1\" class=\"dataframe\">\n",
       "  <thead>\n",
       "    <tr style=\"text-align: right;\">\n",
       "      <th></th>\n",
       "      <th>Bead Dimension,f (μm)\\n(f = h/w, 0.2&lt;f&lt;0.33 )</th>\n",
       "      <th>Bead dilution (μm)\\n(d = p/h, d &gt; 0.1)</th>\n",
       "      <th>Hardness (HV)</th>\n",
       "    </tr>\n",
       "  </thead>\n",
       "  <tbody>\n",
       "    <tr>\n",
       "      <th>0</th>\n",
       "      <td>0.733057</td>\n",
       "      <td>0.105660</td>\n",
       "      <td>551.50</td>\n",
       "    </tr>\n",
       "    <tr>\n",
       "      <th>1</th>\n",
       "      <td>0.957627</td>\n",
       "      <td>0.087021</td>\n",
       "      <td>557.46</td>\n",
       "    </tr>\n",
       "    <tr>\n",
       "      <th>2</th>\n",
       "      <td>1.142222</td>\n",
       "      <td>0.081712</td>\n",
       "      <td>590.62</td>\n",
       "    </tr>\n",
       "    <tr>\n",
       "      <th>3</th>\n",
       "      <td>1.453159</td>\n",
       "      <td>0.038981</td>\n",
       "      <td>561.78</td>\n",
       "    </tr>\n",
       "    <tr>\n",
       "      <th>4</th>\n",
       "      <td>0.785021</td>\n",
       "      <td>0.104240</td>\n",
       "      <td>603.78</td>\n",
       "    </tr>\n",
       "  </tbody>\n",
       "</table>\n",
       "</div>"
      ],
      "text/plain": [
       "   Bead Dimension,f (μm)\\n(f = h/w, 0.2<f<0.33 )  ...  Hardness (HV)\n",
       "0                                       0.733057  ...         551.50\n",
       "1                                       0.957627  ...         557.46\n",
       "2                                       1.142222  ...         590.62\n",
       "3                                       1.453159  ...         561.78\n",
       "4                                       0.785021  ...         603.78\n",
       "\n",
       "[5 rows x 3 columns]"
      ]
     },
     "execution_count": 32,
     "metadata": {},
     "output_type": "execute_result"
    }
   ],
   "source": [
    "output_target.head()"
   ]
  },
  {
   "cell_type": "markdown",
   "metadata": {
    "id": "xsZ4fX_rRmgs"
   },
   "source": [
    "### input features and output"
   ]
  },
  {
   "cell_type": "code",
   "execution_count": 33,
   "metadata": {
    "id": "mP-rKlQIRmgs"
   },
   "outputs": [],
   "source": [
    "X=input_features\n",
    "y=output_target"
   ]
  },
  {
   "cell_type": "markdown",
   "metadata": {
    "id": "lkoWcPnYvaUO"
   },
   "source": [
    "## Spliting Dataset into 70% Training and 30% Testing"
   ]
  },
  {
   "cell_type": "code",
   "execution_count": 34,
   "metadata": {
    "id": "huHyXhKh-2lk"
   },
   "outputs": [],
   "source": [
    "X_train, X_test, y_train, y_test = train_test_split(X, y, test_size=0.30, random_state=42, shuffle=True)"
   ]
  },
  {
   "cell_type": "code",
   "execution_count": 35,
   "metadata": {
    "colab": {
     "base_uri": "https://localhost:8080/"
    },
    "id": "W9RslwGNVe_k",
    "outputId": "637c9132-6769-49d5-f1ae-9e19246eb37d"
   },
   "outputs": [
    {
     "data": {
      "text/plain": [
       "(33, 3)"
      ]
     },
     "execution_count": 35,
     "metadata": {},
     "output_type": "execute_result"
    }
   ],
   "source": [
    "X_train.shape"
   ]
  },
  {
   "cell_type": "code",
   "execution_count": 36,
   "metadata": {
    "colab": {
     "base_uri": "https://localhost:8080/"
    },
    "id": "Fp1XEqeMVe_n",
    "outputId": "612c2a35-1e5e-4879-cae1-d803f5456586"
   },
   "outputs": [
    {
     "data": {
      "text/plain": [
       "(33, 3)"
      ]
     },
     "execution_count": 36,
     "metadata": {},
     "output_type": "execute_result"
    }
   ],
   "source": [
    "y_train.shape"
   ]
  },
  {
   "cell_type": "code",
   "execution_count": 37,
   "metadata": {
    "colab": {
     "base_uri": "https://localhost:8080/"
    },
    "id": "CiABIWK8Ve_r",
    "outputId": "69c907fe-2534-4f1a-c2d2-8c22b28e47d0"
   },
   "outputs": [
    {
     "data": {
      "text/plain": [
       "(15, 3)"
      ]
     },
     "execution_count": 37,
     "metadata": {},
     "output_type": "execute_result"
    }
   ],
   "source": [
    "X_test.shape"
   ]
  },
  {
   "cell_type": "code",
   "execution_count": 38,
   "metadata": {
    "colab": {
     "base_uri": "https://localhost:8080/"
    },
    "id": "GzHjsYX6Ve_u",
    "outputId": "a493870e-28d5-4845-d850-da42e2dd6159"
   },
   "outputs": [
    {
     "data": {
      "text/plain": [
       "(15, 3)"
      ]
     },
     "execution_count": 38,
     "metadata": {},
     "output_type": "execute_result"
    }
   ],
   "source": [
    "y_test.shape"
   ]
  },
  {
   "cell_type": "markdown",
   "metadata": {
    "id": "QUVQbedfRmgt"
   },
   "source": [
    "# --------------------------------------------------------------------------------------------------"
   ]
  },
  {
   "cell_type": "markdown",
   "metadata": {
    "id": "1puLOdaxRmgu"
   },
   "source": [
    "# **RegressorChain Model**"
   ]
  },
  {
   "cell_type": "code",
   "execution_count": 39,
   "metadata": {
    "id": "h6nOlELjOFKy"
   },
   "outputs": [],
   "source": [
    "model = LinearSVR()"
   ]
  },
  {
   "cell_type": "code",
   "execution_count": 40,
   "metadata": {
    "id": "qnbrOd5UOKvQ"
   },
   "outputs": [],
   "source": [
    "wrapper = RegressorChain(model)"
   ]
  },
  {
   "cell_type": "code",
   "execution_count": 41,
   "metadata": {
    "colab": {
     "base_uri": "https://localhost:8080/"
    },
    "id": "S-hG4VNVONk_",
    "outputId": "f2b8add3-ed60-463a-dcde-e4bf64932ebd"
   },
   "outputs": [
    {
     "data": {
      "text/plain": [
       "RegressorChain(base_estimator=LinearSVR(C=1.0, dual=True, epsilon=0.0,\n",
       "                                        fit_intercept=True,\n",
       "                                        intercept_scaling=1.0,\n",
       "                                        loss='epsilon_insensitive',\n",
       "                                        max_iter=1000, random_state=None,\n",
       "                                        tol=0.0001, verbose=0),\n",
       "               cv=None, order=None, random_state=None)"
      ]
     },
     "execution_count": 41,
     "metadata": {},
     "output_type": "execute_result"
    }
   ],
   "source": [
    "wrapper.fit(X_train, y_train)"
   ]
  },
  {
   "cell_type": "markdown",
   "metadata": {
    "id": "GzqikxLSClfm"
   },
   "source": [
    "# Accuracy"
   ]
  },
  {
   "cell_type": "code",
   "execution_count": 42,
   "metadata": {
    "colab": {
     "base_uri": "https://localhost:8080/"
    },
    "id": "f52GwFYKCnXV",
    "outputId": "c5b00c80-3c30-4e64-e4f8-fc300d9d74ae"
   },
   "outputs": [
    {
     "name": "stdout",
     "output_type": "stream",
     "text": [
      "Accuracy is:  51.20072814378265\n"
     ]
    }
   ],
   "source": [
    "acc = wrapper.score(X_test, y_test)\n",
    "print('Accuracy is: ', acc*100)"
   ]
  },
  {
   "cell_type": "markdown",
   "metadata": {
    "id": "4hwnyAU6GCeO"
   },
   "source": [
    "# MSE"
   ]
  },
  {
   "cell_type": "code",
   "execution_count": 43,
   "metadata": {
    "id": "zJu59KHHGCDN"
   },
   "outputs": [],
   "source": [
    "y_pred_test = wrapper.predict(X_test)"
   ]
  },
  {
   "cell_type": "code",
   "execution_count": 44,
   "metadata": {
    "id": "M58Zsg8ROpv9"
   },
   "outputs": [],
   "source": [
    "mul_R_test_mse=mean_squared_error(y_test,y_pred_test)"
   ]
  },
  {
   "cell_type": "code",
   "execution_count": 45,
   "metadata": {
    "colab": {
     "base_uri": "https://localhost:8080/"
    },
    "id": "CKeFdqp6OsPd",
    "outputId": "49d45594-1562-4b25-9bfa-a2ee5b17d37f"
   },
   "outputs": [
    {
     "name": "stdout",
     "output_type": "stream",
     "text": [
      "Mean Squared Error:  1390.81418\n"
     ]
    }
   ],
   "source": [
    "print('Mean Squared Error: ', round(mul_R_test_mse,5))"
   ]
  },
  {
   "cell_type": "markdown",
   "metadata": {
    "id": "_J0hUE58O0wl"
   },
   "source": [
    "# MAE"
   ]
  },
  {
   "cell_type": "code",
   "execution_count": 46,
   "metadata": {
    "colab": {
     "base_uri": "https://localhost:8080/"
    },
    "id": "whwHZ5koO3PW",
    "outputId": "c03c4f1e-5ed2-4180-d247-f7ed7f0e85e6"
   },
   "outputs": [
    {
     "name": "stdout",
     "output_type": "stream",
     "text": [
      "Mean Absolute Error:  17.8562\n"
     ]
    }
   ],
   "source": [
    "mul_R_test_MAE=mean_absolute_error(y_test,y_pred_test)\n",
    "print('Mean Absolute Error: ', round(mul_R_test_MAE,5))"
   ]
  },
  {
   "cell_type": "markdown",
   "metadata": {
    "id": "mPWj2V3KQ0Vw"
   },
   "source": [
    "# Graphs"
   ]
  },
  {
   "cell_type": "code",
   "execution_count": 47,
   "metadata": {
    "id": "Owu43Tvlivxo"
   },
   "outputs": [],
   "source": [
    "y_pred = wrapper.predict(X_test)"
   ]
  },
  {
   "cell_type": "code",
   "execution_count": 48,
   "metadata": {
    "id": "lNglWlLKjO4p"
   },
   "outputs": [],
   "source": [
    "y_pred = pd.DataFrame(y_pred)"
   ]
  },
  {
   "cell_type": "code",
   "execution_count": 49,
   "metadata": {
    "colab": {
     "base_uri": "https://localhost:8080/",
     "height": 265
    },
    "id": "N25I1O_cZMQY",
    "outputId": "bf85db61-67f9-4dce-c0d9-2c7fafb0fe70"
   },
   "outputs": [
    {
     "data": {
      "image/png": "[encoded data removed]",
      "text/plain": [
       "<Figure size 432x288 with 1 Axes>"
      ]
     },
     "metadata": {
      "needs_background": "light"
     },
     "output_type": "display_data"
    }
   ],
   "source": [
    "x_ax = range(len(X_test))\n",
    "plt.plot(x_ax, y_test.iloc[:,0], label=\"actual Bead Dimension,f (μm)\\n(f = h/w, 0.2<f<0.33 )\", color='c')\n",
    "plt.plot(x_ax, y_pred.iloc[:,0], label=\"prredicted Bead Dimension,f (μm)\\n(f = h/w, 0.2<f<0.33 )\", color='b')\n",
    "plt.legend()\n",
    "plt.show()"
   ]
  },
  {
   "cell_type": "code",
   "execution_count": 50,
   "metadata": {
    "colab": {
     "base_uri": "https://localhost:8080/",
     "height": 265
    },
    "id": "N7wuDzu2ZOwX",
    "outputId": "029e48dd-dfa4-4e09-eccf-8d9ba5905e55"
   },
   "outputs": [
    {
     "data": {
      "image/png": "[encoded data removed]",
      "text/plain": [
       "<Figure size 432x288 with 1 Axes>"
      ]
     },
     "metadata": {
      "needs_background": "light"
     },
     "output_type": "display_data"
    }
   ],
   "source": [
    "x_ax = range(len(X_test))\n",
    "plt.plot(x_ax, y_test.iloc[:,1], label=\"actual Bead dilution (μm)\\n(d = p/h, d > 0.1)\", color='m')\n",
    "plt.plot(x_ax, y_pred.iloc[:,1], label=\"predicted Bead dilution (μm)\\n(d = p/h, d > 0.1)\", color='r')\n",
    "plt.legend()\n",
    "plt.show()"
   ]
  },
  {
   "cell_type": "code",
   "execution_count": 51,
   "metadata": {
    "colab": {
     "base_uri": "https://localhost:8080/",
     "height": 265
    },
    "id": "igDkhiI7V8f7",
    "outputId": "de393dae-a4c5-4773-ebba-6086e72dae7e"
   },
   "outputs": [
    {
     "data": {
      "image/png": "[encoded data removed]",
      "text/plain": [
       "<Figure size 432x288 with 1 Axes>"
      ]
     },
     "metadata": {
      "needs_background": "light"
     },
     "output_type": "display_data"
    }
   ],
   "source": [
    "x_ax = range(len(X_test))\n",
    "plt.plot(x_ax, y_test.iloc[:,2], label=\"actual Hardness (HV)\", color='y')\n",
    "plt.plot(x_ax, y_pred.iloc[:,2], label=\"predicted Hardness (HV)\", color='k')\n",
    "plt.legend()\n",
    "plt.show()"
   ]
  },
  {
   "cell_type": "markdown",
   "metadata": {
    "id": "rZchOhtThu_5"
   },
   "source": [
    "# **Lasso linear Model**"
   ]
  },
  {
   "cell_type": "code",
   "execution_count": 52,
   "metadata": {
    "id": "r49IlHIphxoh"
   },
   "outputs": [],
   "source": [
    "from sklearn import linear_model"
   ]
  },
  {
   "cell_type": "code",
   "execution_count": 53,
   "metadata": {
    "id": "8boKk0jzhzmo"
   },
   "outputs": [],
   "source": [
    "clf = linear_model.Lasso(alpha=0.1)"
   ]
  },
  {
   "cell_type": "code",
   "execution_count": 54,
   "metadata": {
    "colab": {
     "base_uri": "https://localhost:8080/"
    },
    "id": "BUHQoIOrh18g",
    "outputId": "c6ddc5e4-84a4-442f-ca3d-cf6d1134d62c"
   },
   "outputs": [
    {
     "data": {
      "text/plain": [
       "Lasso(alpha=0.1, copy_X=True, fit_intercept=True, max_iter=1000,\n",
       "      normalize=False, positive=False, precompute=False, random_state=None,\n",
       "      selection='cyclic', tol=0.0001, warm_start=False)"
      ]
     },
     "execution_count": 54,
     "metadata": {},
     "output_type": "execute_result"
    }
   ],
   "source": [
    "clf.fit(X_train, y_train)"
   ]
  },
  {
   "cell_type": "code",
   "execution_count": 55,
   "metadata": {
    "colab": {
     "base_uri": "https://localhost:8080/"
    },
    "id": "HU1SU3jth33B",
    "outputId": "e3dbcad0-6aa1-4fc6-80c1-a0cf5b2870d5"
   },
   "outputs": [
    {
     "data": {
      "text/plain": [
       "0.5508702878460653"
      ]
     },
     "execution_count": 55,
     "metadata": {},
     "output_type": "execute_result"
    }
   ],
   "source": [
    "clf.score(X_test, y_test)"
   ]
  },
  {
   "cell_type": "markdown",
   "metadata": {
    "id": "_FcmNd4qCdRV"
   },
   "source": [
    "# Accuracy"
   ]
  },
  {
   "cell_type": "code",
   "execution_count": 56,
   "metadata": {
    "colab": {
     "base_uri": "https://localhost:8080/"
    },
    "id": "idJF79l6CfAs",
    "outputId": "fc28d1d6-afdd-407d-c94d-7be66e14f55f"
   },
   "outputs": [
    {
     "name": "stdout",
     "output_type": "stream",
     "text": [
      "Accuracy is:  55.08702878460653\n"
     ]
    }
   ],
   "source": [
    "acc = clf.score(X_test, y_test)\n",
    "print('Accuracy is: ', acc*100)"
   ]
  },
  {
   "cell_type": "markdown",
   "metadata": {
    "id": "hN2LYK1_iJkq"
   },
   "source": [
    "# MSE"
   ]
  },
  {
   "cell_type": "code",
   "execution_count": 57,
   "metadata": {
    "id": "mLAGpP2kiFrJ"
   },
   "outputs": [],
   "source": [
    "y_pred_test = clf.predict(X_test)"
   ]
  },
  {
   "cell_type": "code",
   "execution_count": 58,
   "metadata": {
    "id": "lxBFfh5ziNtB"
   },
   "outputs": [],
   "source": [
    "mse=mean_squared_error(y_test,y_pred_test)"
   ]
  },
  {
   "cell_type": "code",
   "execution_count": 59,
   "metadata": {
    "colab": {
     "base_uri": "https://localhost:8080/"
    },
    "id": "1o-rB7PviT5Z",
    "outputId": "5b27eb62-7923-4e47-e708-bd96432a2423"
   },
   "outputs": [
    {
     "name": "stdout",
     "output_type": "stream",
     "text": [
      "Mean Squared Error:  1280.05183\n"
     ]
    }
   ],
   "source": [
    "print('Mean Squared Error: ', round(mse,5))"
   ]
  },
  {
   "cell_type": "markdown",
   "metadata": {
    "id": "uBbdmeyTiaxU"
   },
   "source": [
    "# MAE"
   ]
  },
  {
   "cell_type": "code",
   "execution_count": 60,
   "metadata": {
    "colab": {
     "base_uri": "https://localhost:8080/"
    },
    "id": "w6gIdPyXiaRQ",
    "outputId": "7c3cbc57-ad24-470a-9b0d-9ba207f0ecf8"
   },
   "outputs": [
    {
     "name": "stdout",
     "output_type": "stream",
     "text": [
      "Mean Absolute Error:  16.22938\n"
     ]
    }
   ],
   "source": [
    "mul_R_test_MAE=mean_absolute_error(y_test,y_pred_test)\n",
    "print('Mean Absolute Error: ', round(mul_R_test_MAE,5))"
   ]
  },
  {
   "cell_type": "markdown",
   "metadata": {
    "id": "a2bPBGl0ilX5"
   },
   "source": [
    "# Graphs"
   ]
  },
  {
   "cell_type": "code",
   "execution_count": 61,
   "metadata": {
    "id": "3NLD2RqCjY66"
   },
   "outputs": [],
   "source": [
    "y_pred = clf.predict(X_test)"
   ]
  },
  {
   "cell_type": "code",
   "execution_count": 62,
   "metadata": {
    "id": "daQ-5mJOjciR"
   },
   "outputs": [],
   "source": [
    "y_pred = pd.DataFrame(y_pred)"
   ]
  },
  {
   "cell_type": "code",
   "execution_count": 63,
   "metadata": {
    "colab": {
     "base_uri": "https://localhost:8080/",
     "height": 265
    },
    "id": "7gJW0Vc2im6I",
    "outputId": "075e7a3e-94bc-486c-8f93-8269510895fc"
   },
   "outputs": [
    {
     "data": {
      "image/png": "[encoded data removed]",
      "text/plain": [
       "<Figure size 432x288 with 1 Axes>"
      ]
     },
     "metadata": {
      "needs_background": "light"
     },
     "output_type": "display_data"
    }
   ],
   "source": [
    "x_ax = range(len(X_test))\n",
    "plt.plot(x_ax, y_test.iloc[:,0], label=\"actual Bead Dimension,f (μm)\\n(f = h/w, 0.2<f<0.33 )\", color='c')\n",
    "plt.plot(x_ax, y_pred.iloc[:,0], label=\"predict Bead Dimension,f (μm)\\n(f = h/w, 0.2<f<0.33 )\", color='b')\n",
    "plt.legend()\n",
    "plt.show()"
   ]
  },
  {
   "cell_type": "code",
   "execution_count": 64,
   "metadata": {
    "colab": {
     "base_uri": "https://localhost:8080/",
     "height": 265
    },
    "id": "ouWhus6mjf8R",
    "outputId": "dcb4ee74-6ce9-4660-fe4d-13624c427b03"
   },
   "outputs": [
    {
     "data": {
      "image/png": "[encoded data removed]",
      "text/plain": [
       "<Figure size 432x288 with 1 Axes>"
      ]
     },
     "metadata": {
      "needs_background": "light"
     },
     "output_type": "display_data"
    }
   ],
   "source": [
    "x_ax = range(len(X_test))\n",
    "plt.plot(x_ax, y_test.iloc[:,1], label=\"actual actual Bead dilution (μm)\\n(d = p/h, d > 0.1)\", color='m')\n",
    "plt.plot(x_ax, y_pred.iloc[:,1], label=\"predict actual Bead dilution (μm)\\n(d = p/h, d > 0.1)\", color='r')\n",
    "plt.legend()\n",
    "plt.show()"
   ]
  },
  {
   "cell_type": "code",
   "execution_count": 65,
   "metadata": {
    "colab": {
     "base_uri": "https://localhost:8080/",
     "height": 265
    },
    "id": "HARZ04hOjjWC",
    "outputId": "7c707b15-5312-4a34-efe4-aa4bb4160bcd"
   },
   "outputs": [
    {
     "data": {
      "image/png": "[encoded data removed]",
      "text/plain": [
       "<Figure size 432x288 with 1 Axes>"
      ]
     },
     "metadata": {
      "needs_background": "light"
     },
     "output_type": "display_data"
    }
   ],
   "source": [
    "x_ax = range(len(X_test))\n",
    "plt.plot(x_ax, y_test.iloc[:,2], label=\"actual Hardness (HV)\", color='y')\n",
    "plt.plot(x_ax, y_pred.iloc[:,2], label=\"predict Hardness (HV)\", color='k')\n",
    "plt.legend()\n",
    "plt.show()"
   ]
  },
  {
   "cell_type": "markdown",
   "metadata": {
    "id": "lna-_fIAl5aq"
   },
   "source": [
    "# KNN Model"
   ]
  },
  {
   "cell_type": "code",
   "execution_count": 66,
   "metadata": {
    "id": "qxRi0KfRAruu"
   },
   "outputs": [],
   "source": [
    "from sklearn.neighbors import KNeighborsRegressor"
   ]
  },
  {
   "cell_type": "code",
   "execution_count": 67,
   "metadata": {
    "id": "l2tzkueGA1fk"
   },
   "outputs": [],
   "source": [
    "neigh = KNeighborsRegressor(n_neighbors=2)"
   ]
  },
  {
   "cell_type": "code",
   "execution_count": 68,
   "metadata": {
    "colab": {
     "base_uri": "https://localhost:8080/"
    },
    "id": "XPjKBo1PA4fs",
    "outputId": "0c21adb3-799c-46cf-e911-3ec06baecf8f"
   },
   "outputs": [
    {
     "data": {
      "text/plain": [
       "KNeighborsRegressor(algorithm='auto', leaf_size=30, metric='minkowski',\n",
       "                    metric_params=None, n_jobs=None, n_neighbors=2, p=2,\n",
       "                    weights='uniform')"
      ]
     },
     "execution_count": 68,
     "metadata": {},
     "output_type": "execute_result"
    }
   ],
   "source": [
    "neigh.fit(X_train,y_train)"
   ]
  },
  {
   "cell_type": "code",
   "execution_count": 69,
   "metadata": {
    "colab": {
     "base_uri": "https://localhost:8080/"
    },
    "id": "J51KhGzbBAnU",
    "outputId": "a0302275-b02e-4adf-f99a-07a537ae78ef"
   },
   "outputs": [
    {
     "data": {
      "text/plain": [
       "0.912647244175292"
      ]
     },
     "execution_count": 69,
     "metadata": {},
     "output_type": "execute_result"
    }
   ],
   "source": [
    "neigh.score(X_test, y_test)"
   ]
  },
  {
   "cell_type": "markdown",
   "metadata": {
    "id": "8141XujDCLvE"
   },
   "source": [
    "# Accuracy"
   ]
  },
  {
   "cell_type": "code",
   "execution_count": 70,
   "metadata": {
    "colab": {
     "base_uri": "https://localhost:8080/"
    },
    "id": "JsmokeAJCN_E",
    "outputId": "c7ae483a-6578-4bdf-8408-07e06a86beea"
   },
   "outputs": [
    {
     "name": "stdout",
     "output_type": "stream",
     "text": [
      "Accuracy is:  91.2647244175292\n"
     ]
    }
   ],
   "source": [
    "acc = neigh.score(X_test, y_test)\n",
    "print('Accuracy is: ', acc*100)"
   ]
  },
  {
   "cell_type": "markdown",
   "metadata": {
    "id": "G53M-l3qBQSs"
   },
   "source": [
    "# MSE"
   ]
  },
  {
   "cell_type": "code",
   "execution_count": 71,
   "metadata": {
    "id": "Vpv6Ud0XBVRc"
   },
   "outputs": [],
   "source": [
    "y_pred_test = neigh.predict(X_test)"
   ]
  },
  {
   "cell_type": "code",
   "execution_count": 72,
   "metadata": {
    "id": "U95_RzBeBZH0"
   },
   "outputs": [],
   "source": [
    "mse=mean_squared_error(y_test,y_pred_test)"
   ]
  },
  {
   "cell_type": "code",
   "execution_count": 73,
   "metadata": {
    "colab": {
     "base_uri": "https://localhost:8080/"
    },
    "id": "_UOZfnNmBiTu",
    "outputId": "158f2c93-3b09-4f91-e049-2d9a8d1e4a01"
   },
   "outputs": [
    {
     "name": "stdout",
     "output_type": "stream",
     "text": [
      "Mean Squared Error:  248.96161\n"
     ]
    }
   ],
   "source": [
    "print('Mean Squared Error: ', round(mse,5))"
   ]
  },
  {
   "cell_type": "markdown",
   "metadata": {
    "id": "Ww3aNZ4SBR4c"
   },
   "source": [
    "# MAE"
   ]
  },
  {
   "cell_type": "code",
   "execution_count": 74,
   "metadata": {
    "colab": {
     "base_uri": "https://localhost:8080/"
    },
    "id": "ajT28D7gBkjU",
    "outputId": "552b16f0-ffa1-40a0-b747-df4de452e561"
   },
   "outputs": [
    {
     "name": "stdout",
     "output_type": "stream",
     "text": [
      "Mean Absolute Error:  7.14718\n"
     ]
    }
   ],
   "source": [
    "mul_R_test_MAE=mean_absolute_error(y_test,y_pred_test)\n",
    "print('Mean Absolute Error: ', round(mul_R_test_MAE,5))"
   ]
  },
  {
   "cell_type": "markdown",
   "metadata": {
    "id": "PHtMGNqaBTpT"
   },
   "source": [
    "# Graphs"
   ]
  },
  {
   "cell_type": "code",
   "execution_count": 75,
   "metadata": {
    "id": "FPCPL-gOAYIU"
   },
   "outputs": [],
   "source": [
    "y_pred = neigh.predict(X_test)"
   ]
  },
  {
   "cell_type": "code",
   "execution_count": 76,
   "metadata": {
    "id": "XPMbv4yYBv-1"
   },
   "outputs": [],
   "source": [
    "y_pred = pd.DataFrame(y_pred)"
   ]
  },
  {
   "cell_type": "code",
   "execution_count": 77,
   "metadata": {
    "colab": {
     "base_uri": "https://localhost:8080/",
     "height": 265
    },
    "id": "9ARw1rglByz8",
    "outputId": "b68a7cab-5712-41ba-bc9b-28020b209509"
   },
   "outputs": [
    {
     "data": {
      "image/png": "[encoded data removed]",
      "text/plain": [
       "<Figure size 432x288 with 1 Axes>"
      ]
     },
     "metadata": {
      "needs_background": "light"
     },
     "output_type": "display_data"
    }
   ],
   "source": [
    "x_ax = range(len(X_test))\n",
    "plt.plot(x_ax, y_test.iloc[:,0], label=\"actual Bead Dimension,f (μm)\\n(f = h/w, 0.2<f<0.33 )\", color='c')\n",
    "plt.plot(x_ax, y_pred.iloc[:,0], label=\"predict Bead Dimension,f (μm)\\n(f = h/w, 0.2<f<0.33 )\", color='b')\n",
    "plt.legend()\n",
    "plt.show()"
   ]
  },
  {
   "cell_type": "code",
   "execution_count": 78,
   "metadata": {
    "colab": {
     "base_uri": "https://localhost:8080/",
     "height": 265
    },
    "id": "yqx7Lo_kB9Gc",
    "outputId": "e954494d-6396-4b4c-b266-7da6c1ea6e08"
   },
   "outputs": [
    {
     "data": {
      "image/png": "[encoded data removed]",
      "text/plain": [
       "<Figure size 432x288 with 1 Axes>"
      ]
     },
     "metadata": {
      "needs_background": "light"
     },
     "output_type": "display_data"
    }
   ],
   "source": [
    "x_ax = range(len(X_test))\n",
    "plt.plot(x_ax, y_test.iloc[:,1], label=\"actual actual Bead dilution (μm)\\n(d = p/h, d > 0.1)\", color='m')\n",
    "plt.plot(x_ax, y_pred.iloc[:,1], label=\"predict actual Bead dilution (μm)\\n(d = p/h, d > 0.1)\", color='r')\n",
    "plt.legend()\n",
    "plt.show()"
   ]
  },
  {
   "cell_type": "code",
   "execution_count": 79,
   "metadata": {
    "colab": {
     "base_uri": "https://localhost:8080/",
     "height": 265
    },
    "id": "zNFNXCCJCAY9",
    "outputId": "7868e0aa-a3c4-424d-c0ff-29e147d9133b"
   },
   "outputs": [
    {
     "data": {
      "image/png": "[encoded data removed]",
      "text/plain": [
       "<Figure size 432x288 with 1 Axes>"
      ]
     },
     "metadata": {
      "needs_background": "light"
     },
     "output_type": "display_data"
    }
   ],
   "source": [
    "x_ax = range(len(X_test))\n",
    "plt.plot(x_ax, y_test.iloc[:,2], label=\"actual Hardness (HV)\", color='y')\n",
    "plt.plot(x_ax, y_pred.iloc[:,2], label=\"predict Hardness (HV)\", color='k')\n",
    "plt.legend()\n",
    "plt.show()"
   ]
  },
  {
   "cell_type": "markdown",
   "metadata": {
    "id": "cXi7uQqQD_Yf"
   },
   "source": [
    "# Check on different values of K-neighbours"
   ]
  },
  {
   "cell_type": "code",
   "execution_count": 80,
   "metadata": {
    "colab": {
     "base_uri": "https://localhost:8080/"
    },
    "id": "VgbdHldtEDUN",
    "outputId": "3a586871-61e9-4141-ef2d-155bceecd6dd"
   },
   "outputs": [
    {
     "name": "stdout",
     "output_type": "stream",
     "text": [
      "Accuracy for the value of k=  1 is: 86.5 %\n",
      "Accuracy for the value of k=  2 is: 91.3 %\n",
      "Accuracy for the value of k=  3 is: 86.6 %\n",
      "Accuracy for the value of k=  4 is: 73.3 %\n",
      "Accuracy for the value of k=  5 is: 65.9 %\n",
      "Accuracy for the value of k=  6 is: 50.1 %\n",
      "Accuracy for the value of k=  7 is: 50.2 %\n",
      "Accuracy for the value of k=  8 is: 43.3 %\n",
      "Accuracy for the value of k=  9 is: 44.4 %\n",
      "Accuracy for the value of k=  10 is: 48.9 %\n",
      "Accuracy for the value of k=  11 is: 46.8 %\n",
      "Accuracy for the value of k=  12 is: 45.6 %\n",
      "Accuracy for the value of k=  13 is: 42.6 %\n",
      "Accuracy for the value of k=  14 is: 39.8 %\n",
      "Accuracy for the value of k=  15 is: 35.7 %\n",
      "Accuracy for the value of k=  16 is: 29.5 %\n",
      "Accuracy for the value of k=  17 is: 24.0 %\n",
      "Accuracy for the value of k=  18 is: 23.6 %\n",
      "Accuracy for the value of k=  19 is: 23.0 %\n",
      "Accuracy for the value of k=  20 is: 17.3 %\n"
     ]
    }
   ],
   "source": [
    "acc = []\n",
    "for i in range(20):\n",
    "  i = i+1\n",
    "  clf = KNeighborsRegressor(n_neighbors=i) \n",
    "  clf.fit(X_train, y_train)\n",
    "  acc.append(round(clf.score(X_test, y_test)*100))\n",
    "  print('Accuracy for the value of k= ' , i , 'is:', round(clf.score(X_test, y_test)*100,1),'%')"
   ]
  },
  {
   "cell_type": "code",
   "execution_count": 81,
   "metadata": {
    "colab": {
     "base_uri": "https://localhost:8080/",
     "height": 282
    },
    "id": "7KHTOoU7LHnm",
    "outputId": "54790813-16d1-44bc-d639-a72ede4d9b52"
   },
   "outputs": [
    {
     "data": {
      "text/plain": [
       "<matplotlib.axes._subplots.AxesSubplot at 0x7ff600340b90>"
      ]
     },
     "execution_count": 81,
     "metadata": {},
     "output_type": "execute_result"
    },
    {
     "data": {
      "image/png": "[encoded data removed]",
      "text/plain": [
       "<Figure size 432x288 with 1 Axes>"
      ]
     },
     "metadata": {
      "needs_background": "light"
     },
     "output_type": "display_data"
    }
   ],
   "source": [
    "#plotting the rmse values against k values\n",
    "curve = pd.DataFrame(acc) #elbow curve \n",
    "curve.plot()"
   ]
  },
  {
   "cell_type": "code",
   "execution_count": 82,
   "metadata": {
    "colab": {
     "base_uri": "https://localhost:8080/"
    },
    "id": "EoHYdmCsFA9f",
    "outputId": "3b4d278b-1209-41ff-d6b4-e838a0b956f7"
   },
   "outputs": [
    {
     "name": "stdout",
     "output_type": "stream",
     "text": [
      "RMSE value for k=  1 is: 19.640752135637687\n",
      "RMSE value for k=  2 is: 15.778517257739507\n",
      "RMSE value for k=  3 is: 19.565907410761394\n",
      "RMSE value for k=  4 is: 27.6022772352817\n",
      "RMSE value for k=  5 is: 31.187374865273497\n",
      "RMSE value for k=  6 is: 37.727074829418655\n",
      "RMSE value for k=  7 is: 37.6568316267873\n",
      "RMSE value for k=  8 is: 40.18493359895545\n",
      "RMSE value for k=  9 is: 39.824765907914674\n",
      "RMSE value for k=  10 is: 38.147161368549845\n",
      "RMSE value for k=  11 is: 38.94324468818597\n",
      "RMSE value for k=  12 is: 39.3800758914353\n",
      "RMSE value for k=  13 is: 40.45203056906242\n",
      "RMSE value for k=  14 is: 41.415643970333605\n",
      "RMSE value for k=  15 is: 42.798587403887836\n",
      "RMSE value for k=  16 is: 44.812575860859994\n",
      "RMSE value for k=  17 is: 46.53949698560049\n",
      "RMSE value for k=  18 is: 46.66045688665683\n",
      "RMSE value for k=  19 is: 46.86037084879443\n",
      "RMSE value for k=  20 is: 48.54440162089963\n"
     ]
    }
   ],
   "source": [
    "from math import sqrt\n",
    "from sklearn.metrics import mean_squared_error\n",
    "rmse_val = [] #to store rmse values for different k\n",
    "for K in range(20):\n",
    "    K = K+1\n",
    "    model = KNeighborsRegressor(n_neighbors=K)\n",
    "\n",
    "    model.fit(X_train, y_train)  #fit the model\n",
    "    pred=model.predict(X_test) #make prediction on test set\n",
    "    error = sqrt(mean_squared_error(y_test,pred)) #calculate rmse\n",
    "    rmse_val.append(error) #store rmse values\n",
    "    print('RMSE value for k= ' , K , 'is:', error)"
   ]
  },
  {
   "cell_type": "code",
   "execution_count": 83,
   "metadata": {
    "colab": {
     "base_uri": "https://localhost:8080/",
     "height": 285
    },
    "id": "2MksbevnFViv",
    "outputId": "5909a7e8-1897-4b48-a7ff-4aa28d9a3cde"
   },
   "outputs": [
    {
     "data": {
      "text/plain": [
       "<matplotlib.axes._subplots.AxesSubplot at 0x7ff60056e190>"
      ]
     },
     "execution_count": 83,
     "metadata": {},
     "output_type": "execute_result"
    },
    {
     "data": {
      "image/png": "[encoded data removed]",
      "text/plain": [
       "<Figure size 432x288 with 1 Axes>"
      ]
     },
     "metadata": {
      "needs_background": "light"
     },
     "output_type": "display_data"
    }
   ],
   "source": [
    "#plotting the rmse values against k values\n",
    "curve = pd.DataFrame(rmse_val) #elbow curve \n",
    "curve.plot()"
   ]
  },
  {
   "cell_type": "markdown",
   "metadata": {
    "id": "5zrwdtkEGSUH"
   },
   "source": [
    "Value of K neighbours that provides good result"
   ]
  },
  {
   "cell_type": "code",
   "execution_count": 84,
   "metadata": {
    "colab": {
     "base_uri": "https://localhost:8080/"
    },
    "id": "SvvGX6ByFbLl",
    "outputId": "4ea62fc9-60eb-4b9a-eb6d-31b12c72f20e"
   },
   "outputs": [
    {
     "data": {
      "text/plain": [
       "{'n_neighbors': 1}"
      ]
     },
     "execution_count": 84,
     "metadata": {},
     "output_type": "execute_result"
    }
   ],
   "source": [
    "from sklearn.model_selection import GridSearchCV\n",
    "params = {'n_neighbors':[1, 2,3,4,5,6,7,8,9]}\n",
    "\n",
    "knn = KNeighborsRegressor()\n",
    "\n",
    "model = GridSearchCV(knn, params, cv=5)\n",
    "model.fit(X_train,y_train)\n",
    "model.best_params_"
   ]
  },
  {
   "cell_type": "code",
   "execution_count": 85,
   "metadata": {
    "colab": {
     "base_uri": "https://localhost:8080/",
     "height": 204
    },
    "id": "mIqAMvP_Oo72",
    "outputId": "e4d89d39-a151-4bcd-9c56-199d6bf57d80"
   },
   "outputs": [
    {
     "data": {
      "text/html": [
       "<div>\n",
       "<style scoped>\n",
       "    .dataframe tbody tr th:only-of-type {\n",
       "        vertical-align: middle;\n",
       "    }\n",
       "\n",
       "    .dataframe tbody tr th {\n",
       "        vertical-align: top;\n",
       "    }\n",
       "\n",
       "    .dataframe thead th {\n",
       "        text-align: right;\n",
       "    }\n",
       "</style>\n",
       "<table border=\"1\" class=\"dataframe\">\n",
       "  <thead>\n",
       "    <tr style=\"text-align: right;\">\n",
       "      <th></th>\n",
       "      <th>Laser power (W)</th>\n",
       "      <th>Scanning Speed (mm/min)</th>\n",
       "      <th>Powder Flowrate (g/min)</th>\n",
       "      <th>Bead Dimension,f (μm)\\n(f = h/w, 0.2&lt;f&lt;0.33 )</th>\n",
       "      <th>Bead dilution (μm)\\n(d = p/h, d &gt; 0.1)</th>\n",
       "      <th>Hardness (HV)</th>\n",
       "    </tr>\n",
       "  </thead>\n",
       "  <tbody>\n",
       "    <tr>\n",
       "      <th>0</th>\n",
       "      <td>300</td>\n",
       "      <td>600</td>\n",
       "      <td>3</td>\n",
       "      <td>0.733057</td>\n",
       "      <td>0.105660</td>\n",
       "      <td>551.50</td>\n",
       "    </tr>\n",
       "    <tr>\n",
       "      <th>1</th>\n",
       "      <td>300</td>\n",
       "      <td>600</td>\n",
       "      <td>5</td>\n",
       "      <td>0.957627</td>\n",
       "      <td>0.087021</td>\n",
       "      <td>557.46</td>\n",
       "    </tr>\n",
       "    <tr>\n",
       "      <th>2</th>\n",
       "      <td>300</td>\n",
       "      <td>600</td>\n",
       "      <td>7</td>\n",
       "      <td>1.142222</td>\n",
       "      <td>0.081712</td>\n",
       "      <td>590.62</td>\n",
       "    </tr>\n",
       "    <tr>\n",
       "      <th>3</th>\n",
       "      <td>300</td>\n",
       "      <td>600</td>\n",
       "      <td>9</td>\n",
       "      <td>1.453159</td>\n",
       "      <td>0.038981</td>\n",
       "      <td>561.78</td>\n",
       "    </tr>\n",
       "    <tr>\n",
       "      <th>4</th>\n",
       "      <td>300</td>\n",
       "      <td>800</td>\n",
       "      <td>3</td>\n",
       "      <td>0.785021</td>\n",
       "      <td>0.104240</td>\n",
       "      <td>603.78</td>\n",
       "    </tr>\n",
       "  </tbody>\n",
       "</table>\n",
       "</div>"
      ],
      "text/plain": [
       "   Laser power (W)  ...  Hardness (HV)\n",
       "0              300  ...         551.50\n",
       "1              300  ...         557.46\n",
       "2              300  ...         590.62\n",
       "3              300  ...         561.78\n",
       "4              300  ...         603.78\n",
       "\n",
       "[5 rows x 6 columns]"
      ]
     },
     "execution_count": 85,
     "metadata": {},
     "output_type": "execute_result"
    }
   ],
   "source": [
    "data.head()"
   ]
  },
  {
   "cell_type": "markdown",
   "metadata": {
    "id": "Pf58ZqXBLG92"
   },
   "source": [
    "# Evaluation Measures on Test data"
   ]
  },
  {
   "cell_type": "code",
   "execution_count": 86,
   "metadata": {
    "colab": {
     "base_uri": "https://localhost:8080/",
     "height": 514
    },
    "id": "ROCCXScBOf_2",
    "outputId": "b8ee3c6f-47f7-4728-eecd-24f1db8d442a"
   },
   "outputs": [
    {
     "data": {
      "text/html": [
       "<div>\n",
       "<style scoped>\n",
       "    .dataframe tbody tr th:only-of-type {\n",
       "        vertical-align: middle;\n",
       "    }\n",
       "\n",
       "    .dataframe tbody tr th {\n",
       "        vertical-align: top;\n",
       "    }\n",
       "\n",
       "    .dataframe thead th {\n",
       "        text-align: right;\n",
       "    }\n",
       "</style>\n",
       "<table border=\"1\" class=\"dataframe\">\n",
       "  <thead>\n",
       "    <tr style=\"text-align: right;\">\n",
       "      <th></th>\n",
       "      <th>Bead Dimension,f (μm)\\n(f = h/w, 0.2&lt;f&lt;0.33</th>\n",
       "      <th>Bead dilution (μm)\\n(d = p/h, d &gt; 0.1)</th>\n",
       "      <th>Hardness (HV)</th>\n",
       "    </tr>\n",
       "  </thead>\n",
       "  <tbody>\n",
       "    <tr>\n",
       "      <th>0</th>\n",
       "      <td>0.298975</td>\n",
       "      <td>0.114651</td>\n",
       "      <td>708.328799</td>\n",
       "    </tr>\n",
       "    <tr>\n",
       "      <th>1</th>\n",
       "      <td>0.270983</td>\n",
       "      <td>0.171427</td>\n",
       "      <td>826.627319</td>\n",
       "    </tr>\n",
       "    <tr>\n",
       "      <th>2</th>\n",
       "      <td>0.264998</td>\n",
       "      <td>0.118650</td>\n",
       "      <td>703.126727</td>\n",
       "    </tr>\n",
       "    <tr>\n",
       "      <th>3</th>\n",
       "      <td>0.372914</td>\n",
       "      <td>0.159431</td>\n",
       "      <td>842.233537</td>\n",
       "    </tr>\n",
       "    <tr>\n",
       "      <th>4</th>\n",
       "      <td>0.197044</td>\n",
       "      <td>0.126647</td>\n",
       "      <td>692.722582</td>\n",
       "    </tr>\n",
       "    <tr>\n",
       "      <th>5</th>\n",
       "      <td>0.335062</td>\n",
       "      <td>0.176743</td>\n",
       "      <td>802.027677</td>\n",
       "    </tr>\n",
       "    <tr>\n",
       "      <th>6</th>\n",
       "      <td>0.093004</td>\n",
       "      <td>0.072553</td>\n",
       "      <td>588.619560</td>\n",
       "    </tr>\n",
       "    <tr>\n",
       "      <th>7</th>\n",
       "      <td>0.359177</td>\n",
       "      <td>0.133281</td>\n",
       "      <td>648.725369</td>\n",
       "    </tr>\n",
       "    <tr>\n",
       "      <th>8</th>\n",
       "      <td>0.153206</td>\n",
       "      <td>0.091182</td>\n",
       "      <td>529.016129</td>\n",
       "    </tr>\n",
       "    <tr>\n",
       "      <th>9</th>\n",
       "      <td>0.231021</td>\n",
       "      <td>0.122649</td>\n",
       "      <td>697.924654</td>\n",
       "    </tr>\n",
       "    <tr>\n",
       "      <th>10</th>\n",
       "      <td>0.123105</td>\n",
       "      <td>0.081868</td>\n",
       "      <td>558.817845</td>\n",
       "    </tr>\n",
       "    <tr>\n",
       "      <th>11</th>\n",
       "      <td>0.285238</td>\n",
       "      <td>0.088501</td>\n",
       "      <td>514.820631</td>\n",
       "    </tr>\n",
       "    <tr>\n",
       "      <th>12</th>\n",
       "      <td>0.221160</td>\n",
       "      <td>0.083185</td>\n",
       "      <td>539.420274</td>\n",
       "    </tr>\n",
       "    <tr>\n",
       "      <th>13</th>\n",
       "      <td>0.403015</td>\n",
       "      <td>0.168746</td>\n",
       "      <td>812.431821</td>\n",
       "    </tr>\n",
       "    <tr>\n",
       "      <th>14</th>\n",
       "      <td>0.365163</td>\n",
       "      <td>0.186058</td>\n",
       "      <td>772.225961</td>\n",
       "    </tr>\n",
       "  </tbody>\n",
       "</table>\n",
       "</div>"
      ],
      "text/plain": [
       "    Bead Dimension,f (μm)\\n(f = h/w, 0.2<f<0.33  ...  Hardness (HV)\n",
       "0                                      0.298975  ...     708.328799\n",
       "1                                      0.270983  ...     826.627319\n",
       "2                                      0.264998  ...     703.126727\n",
       "3                                      0.372914  ...     842.233537\n",
       "4                                      0.197044  ...     692.722582\n",
       "5                                      0.335062  ...     802.027677\n",
       "6                                      0.093004  ...     588.619560\n",
       "7                                      0.359177  ...     648.725369\n",
       "8                                      0.153206  ...     529.016129\n",
       "9                                      0.231021  ...     697.924654\n",
       "10                                     0.123105  ...     558.817845\n",
       "11                                     0.285238  ...     514.820631\n",
       "12                                     0.221160  ...     539.420274\n",
       "13                                     0.403015  ...     812.431821\n",
       "14                                     0.365163  ...     772.225961\n",
       "\n",
       "[15 rows x 3 columns]"
      ]
     },
     "execution_count": 86,
     "metadata": {},
     "output_type": "execute_result"
    }
   ],
   "source": [
    "Pred = wrapper.predict(X_test)\n",
    "Pred=pd.DataFrame(Pred)\n",
    "Pred=Pred.rename(columns={0:'Bead Dimension,f (μm)\\n(f = h/w, 0.2<f<0.33',1: 'Bead dilution (μm)\\n(d = p/h, d > 0.1)',2:'Hardness (HV)'})\n",
    "Pred"
   ]
  },
  {
   "cell_type": "markdown",
   "metadata": {
    "id": "Ly2aoQUmP5R1"
   },
   "source": [
    "# Predicted on given data"
   ]
  },
  {
   "cell_type": "code",
   "execution_count": 91,
   "metadata": {
    "id": "IkUiz0c8P4yW"
   },
   "outputs": [],
   "source": [
    "predicted_data = data = pd.read_excel(\"predicted_inputs1.xlsx\")"
   ]
  },
  {
   "cell_type": "code",
   "execution_count": 92,
   "metadata": {
    "colab": {
     "base_uri": "https://localhost:8080/",
     "height": 204
    },
    "id": "tN_NptbgQIhV",
    "outputId": "4a6150d1-1360-4f36-f2e5-cc22c624e345"
   },
   "outputs": [
    {
     "data": {
      "text/html": [
       "<div>\n",
       "<style scoped>\n",
       "    .dataframe tbody tr th:only-of-type {\n",
       "        vertical-align: middle;\n",
       "    }\n",
       "\n",
       "    .dataframe tbody tr th {\n",
       "        vertical-align: top;\n",
       "    }\n",
       "\n",
       "    .dataframe thead th {\n",
       "        text-align: right;\n",
       "    }\n",
       "</style>\n",
       "<table border=\"1\" class=\"dataframe\">\n",
       "  <thead>\n",
       "    <tr style=\"text-align: right;\">\n",
       "      <th></th>\n",
       "      <th>Laser power (W)</th>\n",
       "      <th>Scanning Speed (mm/min)</th>\n",
       "      <th>Powder Flowrate (g/min)</th>\n",
       "    </tr>\n",
       "  </thead>\n",
       "  <tbody>\n",
       "    <tr>\n",
       "      <th>0</th>\n",
       "      <td>300</td>\n",
       "      <td>600</td>\n",
       "      <td>3.0</td>\n",
       "    </tr>\n",
       "    <tr>\n",
       "      <th>1</th>\n",
       "      <td>350</td>\n",
       "      <td>600</td>\n",
       "      <td>3.0</td>\n",
       "    </tr>\n",
       "    <tr>\n",
       "      <th>2</th>\n",
       "      <td>400</td>\n",
       "      <td>600</td>\n",
       "      <td>3.0</td>\n",
       "    </tr>\n",
       "    <tr>\n",
       "      <th>3</th>\n",
       "      <td>450</td>\n",
       "      <td>600</td>\n",
       "      <td>3.0</td>\n",
       "    </tr>\n",
       "    <tr>\n",
       "      <th>4</th>\n",
       "      <td>500</td>\n",
       "      <td>600</td>\n",
       "      <td>3.0</td>\n",
       "    </tr>\n",
       "  </tbody>\n",
       "</table>\n",
       "</div>"
      ],
      "text/plain": [
       "   Laser power (W)  Scanning Speed (mm/min)  Powder Flowrate (g/min)\n",
       "0              300                      600                      3.0\n",
       "1              350                      600                      3.0\n",
       "2              400                      600                      3.0\n",
       "3              450                      600                      3.0\n",
       "4              500                      600                      3.0"
      ]
     },
     "execution_count": 92,
     "metadata": {},
     "output_type": "execute_result"
    }
   ],
   "source": [
    "predicted_data.head()"
   ]
  },
  {
   "cell_type": "code",
   "execution_count": 96,
   "metadata": {
    "colab": {
     "base_uri": "https://localhost:8080/",
     "height": 419
    },
    "id": "ZZqLZsLHQKSX",
    "outputId": "04ad7cbf-f2ff-4a33-c1e9-92544f6c60cd"
   },
   "outputs": [
    {
     "data": {
      "text/html": [
       "<div>\n",
       "<style scoped>\n",
       "    .dataframe tbody tr th:only-of-type {\n",
       "        vertical-align: middle;\n",
       "    }\n",
       "\n",
       "    .dataframe tbody tr th {\n",
       "        vertical-align: top;\n",
       "    }\n",
       "\n",
       "    .dataframe thead th {\n",
       "        text-align: right;\n",
       "    }\n",
       "</style>\n",
       "<table border=\"1\" class=\"dataframe\">\n",
       "  <thead>\n",
       "    <tr style=\"text-align: right;\">\n",
       "      <th></th>\n",
       "      <th>Laser power (W)</th>\n",
       "      <th>Scanning Speed (mm/min)</th>\n",
       "      <th>Powder Flowrate (g/min)</th>\n",
       "    </tr>\n",
       "  </thead>\n",
       "  <tbody>\n",
       "    <tr>\n",
       "      <th>0</th>\n",
       "      <td>300</td>\n",
       "      <td>600</td>\n",
       "      <td>3.0</td>\n",
       "    </tr>\n",
       "    <tr>\n",
       "      <th>1</th>\n",
       "      <td>350</td>\n",
       "      <td>600</td>\n",
       "      <td>3.0</td>\n",
       "    </tr>\n",
       "    <tr>\n",
       "      <th>2</th>\n",
       "      <td>400</td>\n",
       "      <td>600</td>\n",
       "      <td>3.0</td>\n",
       "    </tr>\n",
       "    <tr>\n",
       "      <th>3</th>\n",
       "      <td>450</td>\n",
       "      <td>600</td>\n",
       "      <td>3.0</td>\n",
       "    </tr>\n",
       "    <tr>\n",
       "      <th>4</th>\n",
       "      <td>500</td>\n",
       "      <td>600</td>\n",
       "      <td>3.0</td>\n",
       "    </tr>\n",
       "    <tr>\n",
       "      <th>...</th>\n",
       "      <td>...</td>\n",
       "      <td>...</td>\n",
       "      <td>...</td>\n",
       "    </tr>\n",
       "    <tr>\n",
       "      <th>116</th>\n",
       "      <td>300</td>\n",
       "      <td>600</td>\n",
       "      <td>10.2</td>\n",
       "    </tr>\n",
       "    <tr>\n",
       "      <th>117</th>\n",
       "      <td>300</td>\n",
       "      <td>600</td>\n",
       "      <td>10.4</td>\n",
       "    </tr>\n",
       "    <tr>\n",
       "      <th>118</th>\n",
       "      <td>300</td>\n",
       "      <td>600</td>\n",
       "      <td>10.6</td>\n",
       "    </tr>\n",
       "    <tr>\n",
       "      <th>119</th>\n",
       "      <td>300</td>\n",
       "      <td>600</td>\n",
       "      <td>10.8</td>\n",
       "    </tr>\n",
       "    <tr>\n",
       "      <th>120</th>\n",
       "      <td>300</td>\n",
       "      <td>600</td>\n",
       "      <td>11.0</td>\n",
       "    </tr>\n",
       "  </tbody>\n",
       "</table>\n",
       "<p>121 rows × 3 columns</p>\n",
       "</div>"
      ],
      "text/plain": [
       "     Laser power (W)  Scanning Speed (mm/min)  Powder Flowrate (g/min)\n",
       "0                300                      600                      3.0\n",
       "1                350                      600                      3.0\n",
       "2                400                      600                      3.0\n",
       "3                450                      600                      3.0\n",
       "4                500                      600                      3.0\n",
       "..               ...                      ...                      ...\n",
       "116              300                      600                     10.2\n",
       "117              300                      600                     10.4\n",
       "118              300                      600                     10.6\n",
       "119              300                      600                     10.8\n",
       "120              300                      600                     11.0\n",
       "\n",
       "[121 rows x 3 columns]"
      ]
     },
     "execution_count": 96,
     "metadata": {},
     "output_type": "execute_result"
    }
   ],
   "source": [
    "pred_input_features=data[['Laser power (W)','Scanning Speed (mm/min)','Powder Flowrate (g/min)']]\n",
    "pred_input_features"
   ]
  },
  {
   "cell_type": "code",
   "execution_count": 97,
   "metadata": {
    "colab": {
     "base_uri": "https://localhost:8080/",
     "height": 419
    },
    "id": "iVpl7irHQMku",
    "outputId": "3c33780d-2fcc-4278-8657-1a247f1108f4"
   },
   "outputs": [
    {
     "data": {
      "text/html": [
       "<div>\n",
       "<style scoped>\n",
       "    .dataframe tbody tr th:only-of-type {\n",
       "        vertical-align: middle;\n",
       "    }\n",
       "\n",
       "    .dataframe tbody tr th {\n",
       "        vertical-align: top;\n",
       "    }\n",
       "\n",
       "    .dataframe thead th {\n",
       "        text-align: right;\n",
       "    }\n",
       "</style>\n",
       "<table border=\"1\" class=\"dataframe\">\n",
       "  <thead>\n",
       "    <tr style=\"text-align: right;\">\n",
       "      <th></th>\n",
       "      <th>Bead Dimension,f (μm)\\n(f = h/w, 0.2&lt;f&lt;0.33</th>\n",
       "      <th>Bead dilution (μm)\\n(d = p/h, d &gt; 0.1)</th>\n",
       "      <th>Hardness (HV)</th>\n",
       "    </tr>\n",
       "  </thead>\n",
       "  <tbody>\n",
       "    <tr>\n",
       "      <th>0</th>\n",
       "      <td>0.845342</td>\n",
       "      <td>0.096341</td>\n",
       "      <td>554.48</td>\n",
       "    </tr>\n",
       "    <tr>\n",
       "      <th>1</th>\n",
       "      <td>0.495152</td>\n",
       "      <td>0.267619</td>\n",
       "      <td>530.32</td>\n",
       "    </tr>\n",
       "    <tr>\n",
       "      <th>2</th>\n",
       "      <td>0.402178</td>\n",
       "      <td>0.314593</td>\n",
       "      <td>516.57</td>\n",
       "    </tr>\n",
       "    <tr>\n",
       "      <th>3</th>\n",
       "      <td>0.459851</td>\n",
       "      <td>0.278821</td>\n",
       "      <td>638.17</td>\n",
       "    </tr>\n",
       "    <tr>\n",
       "      <th>4</th>\n",
       "      <td>0.768969</td>\n",
       "      <td>0.102070</td>\n",
       "      <td>785.16</td>\n",
       "    </tr>\n",
       "    <tr>\n",
       "      <th>...</th>\n",
       "      <td>...</td>\n",
       "      <td>...</td>\n",
       "      <td>...</td>\n",
       "    </tr>\n",
       "    <tr>\n",
       "      <th>116</th>\n",
       "      <td>1.049925</td>\n",
       "      <td>0.084366</td>\n",
       "      <td>574.04</td>\n",
       "    </tr>\n",
       "    <tr>\n",
       "      <th>117</th>\n",
       "      <td>1.049925</td>\n",
       "      <td>0.084366</td>\n",
       "      <td>574.04</td>\n",
       "    </tr>\n",
       "    <tr>\n",
       "      <th>118</th>\n",
       "      <td>1.049925</td>\n",
       "      <td>0.084366</td>\n",
       "      <td>574.04</td>\n",
       "    </tr>\n",
       "    <tr>\n",
       "      <th>119</th>\n",
       "      <td>1.049925</td>\n",
       "      <td>0.084366</td>\n",
       "      <td>574.04</td>\n",
       "    </tr>\n",
       "    <tr>\n",
       "      <th>120</th>\n",
       "      <td>1.049925</td>\n",
       "      <td>0.084366</td>\n",
       "      <td>574.04</td>\n",
       "    </tr>\n",
       "  </tbody>\n",
       "</table>\n",
       "<p>121 rows × 3 columns</p>\n",
       "</div>"
      ],
      "text/plain": [
       "     Bead Dimension,f (μm)\\n(f = h/w, 0.2<f<0.33  ...  Hardness (HV)\n",
       "0                                       0.845342  ...         554.48\n",
       "1                                       0.495152  ...         530.32\n",
       "2                                       0.402178  ...         516.57\n",
       "3                                       0.459851  ...         638.17\n",
       "4                                       0.768969  ...         785.16\n",
       "..                                           ...  ...            ...\n",
       "116                                     1.049925  ...         574.04\n",
       "117                                     1.049925  ...         574.04\n",
       "118                                     1.049925  ...         574.04\n",
       "119                                     1.049925  ...         574.04\n",
       "120                                     1.049925  ...         574.04\n",
       "\n",
       "[121 rows x 3 columns]"
      ]
     },
     "execution_count": 97,
     "metadata": {},
     "output_type": "execute_result"
    }
   ],
   "source": [
    "Pred = neigh.predict(pred_input_features)\n",
    "Pred=pd.DataFrame(Pred)\n",
    "Pred=Pred.rename(columns={0:'Bead Dimension,f (μm)\\n(f = h/w, 0.2<f<0.33',1: 'Bead dilution (μm)\\n(d = p/h, d > 0.1)',2:'Hardness (HV)'})\n",
    "Pred"
   ]
  },
  {
   "cell_type": "code",
   "execution_count": 95,
   "metadata": {
    "id": "imU9GGsMV149"
   },
   "outputs": [],
   "source": [
    "Pred.to_csv('data.csv')"
   ]
  }
 ],
 "metadata": {
  "colab": {
   "name": "Regression Code.ipynb",
   "provenance": []
  },
  "kernelspec": {
   "display_name": "Python 3",
   "language": "python",
   "name": "python3"
  },
  "language_info": {
   "codemirror_mode": {
    "name": "ipython",
    "version": 3
   },
   "file_extension": ".py",
   "mimetype": "text/x-python",
   "name": "python",
   "nbconvert_exporter": "python",
   "pygments_lexer": "ipython3",
   "version": "3.8.8"
  }
 },
 "nbformat": 4,
 "nbformat_minor": 1
}
